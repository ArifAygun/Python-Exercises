{
 "cells": [
  {
   "cell_type": "code",
   "execution_count": 14,
   "id": "0b0cfbca",
   "metadata": {},
   "outputs": [],
   "source": [
    "import random"
   ]
  },
  {
   "cell_type": "code",
   "execution_count": null,
   "id": "ff943626",
   "metadata": {},
   "outputs": [],
   "source": [
    "random.randint(0,100)"
   ]
  },
  {
   "cell_type": "code",
   "execution_count": null,
   "id": "046428f4",
   "metadata": {},
   "outputs": [],
   "source": [
    "# keep creating numbers when you just stop creating new number and print how many numbers \n",
    "# you have created until you see the number 66"
   ]
  },
  {
   "cell_type": "code",
   "execution_count": 16,
   "id": "d7648223",
   "metadata": {},
   "outputs": [
    {
     "name": "stdout",
     "output_type": "stream",
     "text": [
      "16239\n"
     ]
    }
   ],
   "source": [
    "count = 0\n",
    "while True:\n",
    "    num = random.randint(0,10000)\n",
    "    count += 1\n",
    "    if num == 666:\n",
    "        print(count)\n",
    "        break"
   ]
  },
  {
   "cell_type": "code",
   "execution_count": null,
   "id": "fcdb137d",
   "metadata": {},
   "outputs": [],
   "source": []
  }
 ],
 "metadata": {
  "kernelspec": {
   "display_name": "Python 3 (ipykernel)",
   "language": "python",
   "name": "python3"
  },
  "language_info": {
   "codemirror_mode": {
    "name": "ipython",
    "version": 3
   },
   "file_extension": ".py",
   "mimetype": "text/x-python",
   "name": "python",
   "nbconvert_exporter": "python",
   "pygments_lexer": "ipython3",
   "version": "3.9.13"
  }
 },
 "nbformat": 4,
 "nbformat_minor": 5
}
