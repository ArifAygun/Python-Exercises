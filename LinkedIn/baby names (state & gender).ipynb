{
 "cells": [
  {
   "cell_type": "markdown",
   "id": "82cb88ed",
   "metadata": {},
   "source": [
    "## What were the 8 most popular female baby names in 2004 in the State California?"
   ]
  },
  {
   "cell_type": "code",
   "execution_count": 4,
   "id": "d2e533d1",
   "metadata": {},
   "outputs": [],
   "source": [
    "import pandas as pd"
   ]
  },
  {
   "cell_type": "code",
   "execution_count": null,
   "id": "f456a915",
   "metadata": {},
   "outputs": [],
   "source": []
  }
 ],
 "metadata": {
  "kernelspec": {
   "display_name": "Python 3 (ipykernel)",
   "language": "python",
   "name": "python3"
  },
  "language_info": {
   "codemirror_mode": {
    "name": "ipython",
    "version": 3
   },
   "file_extension": ".py",
   "mimetype": "text/x-python",
   "name": "python",
   "nbconvert_exporter": "python",
   "pygments_lexer": "ipython3",
   "version": "3.9.13"
  }
 },
 "nbformat": 4,
 "nbformat_minor": 5
}
