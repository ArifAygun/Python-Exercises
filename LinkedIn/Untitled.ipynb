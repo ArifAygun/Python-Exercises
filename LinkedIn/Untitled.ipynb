{
 "cells": [
  {
   "cell_type": "code",
   "execution_count": 1,
   "id": "58595905",
   "metadata": {},
   "outputs": [],
   "source": [
    "import pandas as pd"
   ]
  },
  {
   "cell_type": "code",
   "execution_count": 2,
   "id": "5765b9f8",
   "metadata": {},
   "outputs": [],
   "source": [
    "state_baby_names = pd.read_csv ('https://ghoapi.azureedge.net/api/')"
   ]
  },
  {
   "cell_type": "code",
   "execution_count": 9,
   "id": "a754cee6",
   "metadata": {},
   "outputs": [
    {
     "data": {
      "text/html": [
       "<div>\n",
       "<style scoped>\n",
       "    .dataframe tbody tr th:only-of-type {\n",
       "        vertical-align: middle;\n",
       "    }\n",
       "\n",
       "    .dataframe tbody tr th {\n",
       "        vertical-align: top;\n",
       "    }\n",
       "\n",
       "    .dataframe thead th {\n",
       "        text-align: right;\n",
       "    }\n",
       "</style>\n",
       "<table border=\"1\" class=\"dataframe\">\n",
       "  <thead>\n",
       "    <tr style=\"text-align: right;\">\n",
       "      <th></th>\n",
       "      <th>{\"@odata.context\":\"https://ghoapi.azureedge.net/api/$metadata\"</th>\n",
       "      <th>value:[{\"name\":\"IndicatorDimension\"</th>\n",
       "      <th>kind:\"EntitySet\"</th>\n",
       "      <th>url:\"IndicatorDimension\"}</th>\n",
       "      <th>{\"name\":\"DIMENSION\"</th>\n",
       "      <th>kind:\"EntitySet\".1</th>\n",
       "      <th>url:\"DIMENSION\"}</th>\n",
       "      <th>{\"name\":\"SDGFPALL\"</th>\n",
       "      <th>kind:\"EntitySet\".2</th>\n",
       "      <th>url:\"SDGFPALL\"}</th>\n",
       "      <th>...</th>\n",
       "      <th>url:\"NCD_CCS_ALC_TARGET\"}</th>\n",
       "      <th>{\"name\":\"RSUD_63\"</th>\n",
       "      <th>kind:\"EntitySet\".2296</th>\n",
       "      <th>url:\"RSUD_63\"}</th>\n",
       "      <th>{\"name\":\"NCD_CCS_cervicalcancerscreening\"</th>\n",
       "      <th>kind:\"EntitySet\".2297</th>\n",
       "      <th>url:\"NCD_CCS_cervicalcancerscreening\"}</th>\n",
       "      <th>{\"name\":\"SA_0000001453\"</th>\n",
       "      <th>kind:\"EntitySet\".2298</th>\n",
       "      <th>url:\"SA_0000001453\"}]}</th>\n",
       "    </tr>\n",
       "  </thead>\n",
       "  <tbody>\n",
       "  </tbody>\n",
       "</table>\n",
       "<p>0 rows × 6898 columns</p>\n",
       "</div>"
      ],
      "text/plain": [
       "Empty DataFrame\n",
       "Columns: [{\"@odata.context\":\"https://ghoapi.azureedge.net/api/$metadata\", value:[{\"name\":\"IndicatorDimension\", kind:\"EntitySet\", url:\"IndicatorDimension\"}, {\"name\":\"DIMENSION\", kind:\"EntitySet\".1, url:\"DIMENSION\"}, {\"name\":\"SDGFPALL\", kind:\"EntitySet\".2, url:\"SDGFPALL\"}, {\"name\":\"CARE_SOURCE\", kind:\"EntitySet\".3, url:\"CARE_SOURCE\"}, {\"name\":\"AIR_74\", kind:\"EntitySet\".4, url:\"AIR_74\"}, {\"name\":\"O_Avail_hlth_clin\", kind:\"EntitySet\".5, url:\"O_Avail_hlth_clin\"}, {\"name\":\"W10_graphic_B\", kind:\"EntitySet\".6, url:\"W10_graphic_B\"}, {\"name\":\"RSUD_180\", kind:\"EntitySet\".7, url:\"RSUD_180\"}, {\"name\":\"NUTRITION_579\", kind:\"EntitySet\".8, url:\"NUTRITION_579\"}, {\"name\":\"R_excise_incr\", kind:\"EntitySet\".9, url:\"R_excise_incr\"}, {\"name\":\"GDO_q12x2x1x1_4\", kind:\"EntitySet\".10, url:\"GDO_q12x2x1x1_4\"}, {\"name\":\"cpmt\", kind:\"EntitySet\".11, url:\"cpmt\"}, {\"name\":\"RSUD_820\", kind:\"EntitySet\".12, url:\"RSUD_820\"}, {\"name\":\"HWF_0025\", kind:\"EntitySet\".13, url:\"HWF_0025\"}, {\"name\":\"RADON_Q706\", kind:\"EntitySet\".14, url:\"RADON_Q706\"}, {\"name\":\"OCC_8\", kind:\"EntitySet\".15, url:\"OCC_8\"}, {\"name\":\"IHR09\", kind:\"EntitySet\".16, url:\"IHR09\"}, {\"name\":\"SA_0000001764_ARCHIVED\", kind:\"EntitySet\".17, url:\"SA_0000001764_ARCHIVED\"}, {\"name\":\"MH_7\", kind:\"EntitySet\".18, url:\"MH_7\"}, {\"name\":\"SA_0000001514\", kind:\"EntitySet\".19, url:\"SA_0000001514\"}, {\"name\":\"NCD_CCS_diab_retin\", kind:\"EntitySet\".20, url:\"NCD_CCS_diab_retin\"}, {\"name\":\"RSUD_120\", kind:\"EntitySet\".21, url:\"RSUD_120\"}, {\"name\":\"IR_PYRETHROID_PRESENCE\", kind:\"EntitySet\".22, url:\"IR_PYRETHROID_PRESENCE\"}, {\"name\":\"HIV_0000000006\", kind:\"EntitySet\".23, url:\"HIV_0000000006\"}, {\"name\":\"MALARIA_ITN_COVERAGE\", kind:\"EntitySet\".24, url:\"MALARIA_ITN_COVERAGE\"}, {\"name\":\"SE_PRM_PRSL_ZS\", kind:\"EntitySet\".25, url:\"SE_PRM_PRSL_ZS\"}, {\"name\":\"SA_0000001547\", kind:\"EntitySet\".26, url:\"SA_0000001547\"}, {\"name\":\"GDO_q16x3\", kind:\"EntitySet\".27, url:\"GDO_q16x3\"}, {\"name\":\"GDO_q4x2_3\", kind:\"EntitySet\".28, url:\"GDO_q4x2_3\"}, {\"name\":\"NCD_CCS_PA_TAX\", kind:\"EntitySet\".29, url:\"NCD_CCS_PA_TAX\"}, {\"name\":\"SA_0000001794\", kind:\"EntitySet\".30, url:\"SA_0000001794\"}, {\"name\":\"P6_compliance\", kind:\"EntitySet\".31, url:\"P6_compliance\"}, {\"name\":\"Rev_year\", kind:\"EntitySet\".32, url:\"Rev_year\"}, ...]\n",
       "Index: []\n",
       "\n",
       "[0 rows x 6898 columns]"
      ]
     },
     "execution_count": 9,
     "metadata": {},
     "output_type": "execute_result"
    }
   ],
   "source": [
    "state_baby_names"
   ]
  },
  {
   "cell_type": "code",
   "execution_count": null,
   "id": "7fe2d9bf",
   "metadata": {},
   "outputs": [],
   "source": []
  }
 ],
 "metadata": {
  "kernelspec": {
   "display_name": "Python 3 (ipykernel)",
   "language": "python",
   "name": "python3"
  },
  "language_info": {
   "codemirror_mode": {
    "name": "ipython",
    "version": 3
   },
   "file_extension": ".py",
   "mimetype": "text/x-python",
   "name": "python",
   "nbconvert_exporter": "python",
   "pygments_lexer": "ipython3",
   "version": "3.9.13"
  }
 },
 "nbformat": 4,
 "nbformat_minor": 5
}
