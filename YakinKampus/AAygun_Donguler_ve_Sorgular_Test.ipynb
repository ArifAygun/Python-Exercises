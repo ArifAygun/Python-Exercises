{
 "cells": [
  {
   "cell_type": "code",
   "execution_count": 1,
   "metadata": {},
   "outputs": [],
   "source": [
    "kullanici1 = {\n",
    "    'ad': 'Ferhat',\n",
    "    'soyad': 'Ibrik',\n",
    "    'uzmanlik': ['Front-End']\n",
    "}\n",
    "kullanici2 = {\n",
    "    'ad': 'Gokce',\n",
    "    'soyad': 'Gün',\n",
    "    'uzmanlik': ['Tasarim']\n",
    "}\n",
    "kullanici3 = {\n",
    "    'ad': 'Mesut',\n",
    "    'soyad': 'Gün',\n",
    "    'uzmanlik': ['Front-End']\n",
    "}"
   ]
  },
  {
   "cell_type": "raw",
   "metadata": {},
   "source": [
    "# Soru 1: Ferhat Ibrik Kullanicisinin uzmanlik alanlarini döndür"
   ]
  },
  {
   "cell_type": "code",
   "execution_count": 3,
   "metadata": {},
   "outputs": [
    {
     "data": {
      "text/plain": [
       "['Front-End']"
      ]
     },
     "execution_count": 3,
     "metadata": {},
     "output_type": "execute_result"
    }
   ],
   "source": [
    "\n",
    "kullanici1[\"uzmanlik\"]"
   ]
  },
  {
   "cell_type": "code",
   "execution_count": 4,
   "metadata": {},
   "outputs": [
    {
     "data": {
      "text/plain": [
       "['Front-End']"
      ]
     },
     "execution_count": 4,
     "metadata": {},
     "output_type": "execute_result"
    }
   ],
   "source": [
    "kullanici1.get(\"uzmanlik\")"
   ]
  },
  {
   "cell_type": "raw",
   "metadata": {},
   "source": [
    "# Soru 2: Front-end alanindaki uzmanlarin isimlerini döndür"
   ]
  },
  {
   "cell_type": "code",
   "execution_count": 2,
   "metadata": {},
   "outputs": [
    {
     "data": {
      "text/plain": [
       "[{'ad': 'Ferhat', 'soyad': 'Ibrik', 'uzmanlik': ['Front-End']},\n",
       " {'ad': 'Gokce', 'soyad': 'Gün', 'uzmanlik': ['Tasarim']},\n",
       " {'ad': 'Mesut', 'soyad': 'Gün', 'uzmanlik': ['Front-End']}]"
      ]
     },
     "execution_count": 2,
     "metadata": {},
     "output_type": "execute_result"
    }
   ],
   "source": [
    "kullanici_listesi = [kullanici1, kullanici2, kullanici3] \n",
    "kullanici_listesi\n"
   ]
  },
  {
   "cell_type": "code",
   "execution_count": 3,
   "metadata": {},
   "outputs": [
    {
     "name": "stdout",
     "output_type": "stream",
     "text": [
      "Ferhat\n",
      "Mesut\n"
     ]
    }
   ],
   "source": [
    "for kullanici in kullanici_listesi:\n",
    "   if kullanici.get(\"uzmanlik\") == [\"Front-End\"]:\n",
    "       print(kullanici.get(\"ad\"))\n",
    "    \n",
    "    "
   ]
  },
  {
   "cell_type": "code",
   "execution_count": 30,
   "metadata": {},
   "outputs": [
    {
     "name": "stdout",
     "output_type": "stream",
     "text": [
      "Ferhat\n",
      "Mesut\n"
     ]
    }
   ],
   "source": [
    "for kullanici in kullanici_listesi:\n",
    "   if kullanici.get(\"uzmanlik\") == ['Front-End']:\n",
    "       print(kullanici.get(\"ad\"))"
   ]
  },
  {
   "cell_type": "raw",
   "metadata": {},
   "source": [
    "# Soru 3: Mesut kullanicisi Yazilim ögrendi, bilgileri güncelle!"
   ]
  },
  {
   "cell_type": "code",
   "execution_count": 4,
   "metadata": {},
   "outputs": [
    {
     "data": {
      "text/plain": [
       "['Front-End']"
      ]
     },
     "execution_count": 4,
     "metadata": {},
     "output_type": "execute_result"
    }
   ],
   "source": [
    "kullanici3[\"uzmanlik\"]"
   ]
  },
  {
   "cell_type": "code",
   "execution_count": 5,
   "metadata": {},
   "outputs": [
    {
     "name": "stdout",
     "output_type": "stream",
     "text": [
      "[{'ad': 'Ferhat', 'soyad': 'Ibrik', 'uzmanlik': ['Front-End']}, {'ad': 'Gokce', 'soyad': 'Gün', 'uzmanlik': ['Tasarim']}, {'ad': 'Mesut', 'soyad': 'Gün', 'uzmanlik': ['Front-End', 'Yazilim']}]\n"
     ]
    }
   ],
   "source": [
    "kullanici3[\"uzmanlik\"].append(\"Yazilim\")\n",
    "\n",
    "print(kullanici_listesi)"
   ]
  },
  {
   "cell_type": "raw",
   "metadata": {},
   "source": [
    "# Soru 4: 1den fazla uzmanlik alani olan kullanicilari döndür (Hint: length)"
   ]
  },
  {
   "cell_type": "code",
   "execution_count": 12,
   "metadata": {},
   "outputs": [
    {
     "name": "stdout",
     "output_type": "stream",
     "text": [
      "{'ad': 'Mesut', 'soyad': 'Gün', 'uzmanlik': ['Front-End', 'Yazilim']}\n"
     ]
    }
   ],
   "source": [
    "for kullanici in kullanici_listesi:\n",
    "    if len(kullanici[\"uzmanlik\"]) > 1:\n",
    "        print(kullanici)"
   ]
  },
  {
   "cell_type": "raw",
   "metadata": {},
   "source": [
    "# Soru 5: zip kullanarak iki listeyi birlestir ve yasi 30'dan az olan kullanicilar kimler?"
   ]
  },
  {
   "cell_type": "code",
   "execution_count": 13,
   "metadata": {},
   "outputs": [],
   "source": [
    "kullanici_yaslari_listesi = [22, 34, 32]"
   ]
  },
  {
   "cell_type": "code",
   "execution_count": 14,
   "metadata": {},
   "outputs": [
    {
     "name": "stdout",
     "output_type": "stream",
     "text": [
      "{'ad': 'Ferhat', 'soyad': 'Ibrik', 'uzmanlik': ['Front-End']}\n"
     ]
    }
   ],
   "source": [
    "for kullanici, yas in zip(kullanici_listesi, kullanici_yaslari_listesi):\n",
    "    if yas < 30:\n",
    "        print(kullanici)"
   ]
  },
  {
   "cell_type": "raw",
   "metadata": {},
   "source": [
    "# Soru 6: deger isimli degiskene atanan sayinin asal olup olmadigini söyle!\n",
    "# Hint Asal sayi: kendinden ve 1'den baska böleni olmayan sayilar örnek 2,3,5,7"
   ]
  },
  {
   "cell_type": "code",
   "execution_count": 33,
   "metadata": {},
   "outputs": [
    {
     "name": "stdout",
     "output_type": "stream",
     "text": [
      "599 sayısı asal sayidir!\n"
     ]
    }
   ],
   "source": [
    "deger = 599\n",
    "\n",
    "x = deger-1\n",
    "while x > 1:\n",
    "    if deger % x == 0:\n",
    "        print(\"{} sayisi asal değildir\".format(deger))\n",
    "        break\n",
    "    else:\n",
    "        x -= 1\n",
    "else:\n",
    "    print(\"{} sayısı asal sayidir!\".format(deger))\n"
   ]
  }
 ],
 "metadata": {
  "kernelspec": {
   "display_name": "Python 3 (ipykernel)",
   "language": "python",
   "name": "python3"
  },
  "language_info": {
   "codemirror_mode": {
    "name": "ipython",
    "version": 3
   },
   "file_extension": ".py",
   "mimetype": "text/x-python",
   "name": "python",
   "nbconvert_exporter": "python",
   "pygments_lexer": "ipython3",
   "version": "3.9.13"
  }
 },
 "nbformat": 4,
 "nbformat_minor": 4
}
