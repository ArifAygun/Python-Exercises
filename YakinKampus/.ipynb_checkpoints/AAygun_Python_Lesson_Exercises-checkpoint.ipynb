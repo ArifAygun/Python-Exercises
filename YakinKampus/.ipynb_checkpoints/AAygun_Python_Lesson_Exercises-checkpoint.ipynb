{
 "cells": [
  {
   "cell_type": "markdown",
   "id": "f616b406",
   "metadata": {},
   "source": [
    "### print komutu ve kullanımı"
   ]
  },
  {
   "cell_type": "code",
   "execution_count": 1,
   "id": "f64cf6af",
   "metadata": {},
   "outputs": [
    {
     "name": "stdout",
     "output_type": "stream",
     "text": [
      "Selam\n"
     ]
    }
   ],
   "source": [
    "print(\"Selam\")\n"
   ]
  },
  {
   "cell_type": "code",
   "execution_count": 2,
   "id": "8f9ac873",
   "metadata": {},
   "outputs": [
    {
     "name": "stdout",
     "output_type": "stream",
     "text": [
      "Merhaba Yakin Kampus\n"
     ]
    }
   ],
   "source": [
    "print(\"Merhaba Yakin Kampus\")"
   ]
  },
  {
   "cell_type": "code",
   "execution_count": 3,
   "id": "1495138e",
   "metadata": {},
   "outputs": [
    {
     "name": "stdout",
     "output_type": "stream",
     "text": [
      "Merhaba \n",
      "Yakin Kampus\n"
     ]
    }
   ],
   "source": [
    "print(\"Merhaba \\nYakin Kampus\")"
   ]
  },
  {
   "cell_type": "code",
   "execution_count": 4,
   "id": "129b23ad",
   "metadata": {},
   "outputs": [
    {
     "name": "stdout",
     "output_type": "stream",
     "text": [
      "Benim adim      \tArif\n"
     ]
    }
   ],
   "source": [
    "print(\"Benim adim      \\tArif\")"
   ]
  },
  {
   "cell_type": "code",
   "execution_count": 5,
   "id": "eae3cf8a",
   "metadata": {},
   "outputs": [
    {
     "name": "stdout",
     "output_type": "stream",
     "text": [
      "Benim adim Arif\n"
     ]
    }
   ],
   "source": [
    "print(\"Benim adim {}\".format(\"Arif\"))"
   ]
  },
  {
   "cell_type": "code",
   "execution_count": 13,
   "id": "cd10af38",
   "metadata": {},
   "outputs": [
    {
     "name": "stdout",
     "output_type": "stream",
     "text": [
      "Benim adim: Arif, Yasim: 57\n"
     ]
    }
   ],
   "source": [
    "print(\"Benim adim: {}, Yasim: {}\".format(\"Arif\", 57))"
   ]
  },
  {
   "cell_type": "code",
   "execution_count": 14,
   "id": "4ecd36b5",
   "metadata": {},
   "outputs": [
    {
     "name": "stdout",
     "output_type": "stream",
     "text": [
      "Benim adim      \tArif\n",
      "Benim adim Arif\n",
      "Benim adim: Arif, Yasim: 57\n"
     ]
    }
   ],
   "source": [
    "print(\"Benim adim      \\tArif\")\n",
    "print(\"Benim adim {}\".format(\"Arif\"))\n",
    "print(\"Benim adim: {}, Yasim: {}\".format(\"Arif\", 57))"
   ]
  },
  {
   "cell_type": "code",
   "execution_count": 16,
   "id": "7bdf7800",
   "metadata": {},
   "outputs": [
    {
     "name": "stdout",
     "output_type": "stream",
     "text": [
      "Benim adim: Arif, Yasim: 57\n",
      "Benim adim: 57, Yasim: Arif\n"
     ]
    }
   ],
   "source": [
    "print(\"Benim adim: {0}, Yasim: {1}\".format(\"Arif\", 57))\n",
    "print(\"Benim adim: {1}, Yasim: {0}\".format(\"Arif\", 57))"
   ]
  },
  {
   "cell_type": "code",
   "execution_count": 18,
   "id": "67033744",
   "metadata": {},
   "outputs": [
    {
     "name": "stdout",
     "output_type": "stream",
     "text": [
      "Benim adim: Arif, Yasim: 57\n",
      "Benim adim: Arif, Yasim: 57\n"
     ]
    }
   ],
   "source": [
    "print(\"Benim adim: {ad}, Yasim: {yas}\".format(ad=\"Arif\", yas= 57))\n",
    "print(\"Benim adim: {ad}, Yasim: {yas}\".format(yas= 57, ad=\"Arif\"))"
   ]
  },
  {
   "cell_type": "markdown",
   "id": "91c6a7f1",
   "metadata": {},
   "source": [
    "### Değişkenler ve Atama"
   ]
  },
  {
   "cell_type": "markdown",
   "id": "cf9717ce",
   "metadata": {},
   "source": [
    "Değişkenler\n",
    "\n",
    "Kabul edilmeyen değişken atama senaryoları\n",
    "\n",
    "- sayı ile başlama\n",
    "- boşluk içerme\n",
    "- \"\"(/ gibi semboller içerme\n",
    "- rezerve edilmiş isimler kullanma     "
   ]
  },
  {
   "cell_type": "code",
   "execution_count": 19,
   "id": "2926e430",
   "metadata": {},
   "outputs": [
    {
     "name": "stdout",
     "output_type": "stream",
     "text": [
      "10\n"
     ]
    }
   ],
   "source": [
    "sayi = 10\n",
    "print(sayi)"
   ]
  },
  {
   "cell_type": "code",
   "execution_count": 20,
   "id": "268d947b",
   "metadata": {},
   "outputs": [
    {
     "data": {
      "text/plain": [
       "int"
      ]
     },
     "execution_count": 20,
     "metadata": {},
     "output_type": "execute_result"
    }
   ],
   "source": [
    "type(sayi)"
   ]
  },
  {
   "cell_type": "code",
   "execution_count": 21,
   "id": "22279fcd",
   "metadata": {},
   "outputs": [
    {
     "name": "stdout",
     "output_type": "stream",
     "text": [
      "567\n"
     ]
    }
   ],
   "source": [
    "sayi = 567\n",
    "print(sayi)"
   ]
  },
  {
   "cell_type": "code",
   "execution_count": 22,
   "id": "eedc5bbe",
   "metadata": {},
   "outputs": [
    {
     "name": "stdout",
     "output_type": "stream",
     "text": [
      "568\n"
     ]
    }
   ],
   "source": [
    "sayi = sayi + 1\n",
    "print(sayi)"
   ]
  },
  {
   "cell_type": "code",
   "execution_count": 23,
   "id": "be461750",
   "metadata": {},
   "outputs": [
    {
     "name": "stdout",
     "output_type": "stream",
     "text": [
      "10\n"
     ]
    }
   ],
   "source": [
    "sayi_ilk = 10\n",
    "print(sayi_ilk)"
   ]
  },
  {
   "cell_type": "code",
   "execution_count": 25,
   "id": "4225ab82",
   "metadata": {},
   "outputs": [
    {
     "ename": "SyntaxError",
     "evalue": "invalid syntax (2671451782.py, line 3)",
     "output_type": "error",
     "traceback": [
      "\u001b[1;36m  File \u001b[1;32m\"C:\\Users\\AAygun\\AppData\\Local\\Temp\\ipykernel_12796\\2671451782.py\"\u001b[1;36m, line \u001b[1;32m3\u001b[0m\n\u001b[1;33m    1sayi = 14\u001b[0m\n\u001b[1;37m     ^\u001b[0m\n\u001b[1;31mSyntaxError\u001b[0m\u001b[1;31m:\u001b[0m invalid syntax\n"
     ]
    }
   ],
   "source": [
    "sayi_ilk = 10\n",
    "print(sayi_ilk)\n",
    "1sayi = 14\n",
    "print(1sayi)"
   ]
  },
  {
   "cell_type": "code",
   "execution_count": 26,
   "id": "1c66c109",
   "metadata": {},
   "outputs": [
    {
     "ename": "SyntaxError",
     "evalue": "invalid syntax (3771780448.py, line 1)",
     "output_type": "error",
     "traceback": [
      "\u001b[1;36m  File \u001b[1;32m\"C:\\Users\\AAygun\\AppData\\Local\\Temp\\ipykernel_12796\\3771780448.py\"\u001b[1;36m, line \u001b[1;32m1\u001b[0m\n\u001b[1;33m    sayi ilk = 10\u001b[0m\n\u001b[1;37m         ^\u001b[0m\n\u001b[1;31mSyntaxError\u001b[0m\u001b[1;31m:\u001b[0m invalid syntax\n"
     ]
    }
   ],
   "source": [
    "sayi ilk = 10"
   ]
  },
  {
   "cell_type": "code",
   "execution_count": 50,
   "id": "22977264",
   "metadata": {},
   "outputs": [],
   "source": [
    "aprint1 = \"arif\""
   ]
  },
  {
   "cell_type": "code",
   "execution_count": 52,
   "id": "105ec163",
   "metadata": {},
   "outputs": [
    {
     "ename": "TypeError",
     "evalue": "'str' object is not callable",
     "output_type": "error",
     "traceback": [
      "\u001b[1;31m---------------------------------------------------------------------------\u001b[0m",
      "\u001b[1;31mTypeError\u001b[0m                                 Traceback (most recent call last)",
      "\u001b[1;32m~\\AppData\\Local\\Temp\\ipykernel_12796\\3619861154.py\u001b[0m in \u001b[0;36m<module>\u001b[1;34m\u001b[0m\n\u001b[1;32m----> 1\u001b[1;33m \u001b[0mprint\u001b[0m\u001b[1;33m(\u001b[0m\u001b[0maprint1\u001b[0m\u001b[1;33m)\u001b[0m\u001b[1;33m\u001b[0m\u001b[1;33m\u001b[0m\u001b[0m\n\u001b[0m",
      "\u001b[1;31mTypeError\u001b[0m: 'str' object is not callable"
     ]
    }
   ],
   "source": [
    "print(aprint1)"
   ]
  },
  {
   "cell_type": "markdown",
   "id": "94fc62c7",
   "metadata": {},
   "source": [
    "### Veri Tipleri ve Sayı Tipleri\n",
    "#### (Integer ve Float)"
   ]
  },
  {
   "attachments": {
    "image-2.png": {
     "image/png": "[encoded data removed]"
    },
    "image.png": {
     "image/png": "[encoded data removed]"
    }
   },
   "cell_type": "markdown",
   "id": "0aec3286",
   "metadata": {},
   "source": [
    "![image.png](attachment:image.png)\n",
    "\n",
    "![image-2.png](attachment:image-2.png)"
   ]
  },
  {
   "cell_type": "markdown",
   "id": "5f00a960",
   "metadata": {},
   "source": [
    "Sayılar\n",
    "\n",
    "- int: Tam sayılar\n",
    "- float: Ondalık sayılar"
   ]
  },
  {
   "cell_type": "code",
   "execution_count": 31,
   "id": "48ab5471",
   "metadata": {},
   "outputs": [
    {
     "data": {
      "text/plain": [
       "int"
      ]
     },
     "execution_count": 31,
     "metadata": {},
     "output_type": "execute_result"
    }
   ],
   "source": [
    "type(33)"
   ]
  },
  {
   "cell_type": "code",
   "execution_count": 32,
   "id": "cc5604cf",
   "metadata": {},
   "outputs": [
    {
     "data": {
      "text/plain": [
       "float"
      ]
     },
     "execution_count": 32,
     "metadata": {},
     "output_type": "execute_result"
    }
   ],
   "source": [
    "type(34446.56)"
   ]
  },
  {
   "cell_type": "markdown",
   "id": "6bde8215",
   "metadata": {},
   "source": [
    "Aritmetik Operasyonlar"
   ]
  },
  {
   "cell_type": "code",
   "execution_count": 33,
   "id": "eb8ba840",
   "metadata": {},
   "outputs": [
    {
     "data": {
      "text/plain": [
       "15"
      ]
     },
     "execution_count": 33,
     "metadata": {},
     "output_type": "execute_result"
    }
   ],
   "source": [
    "3+12"
   ]
  },
  {
   "cell_type": "code",
   "execution_count": 34,
   "id": "440fe906",
   "metadata": {},
   "outputs": [
    {
     "data": {
      "text/plain": [
       "20"
      ]
     },
     "execution_count": 34,
     "metadata": {},
     "output_type": "execute_result"
    }
   ],
   "source": [
    "4*5"
   ]
  },
  {
   "cell_type": "code",
   "execution_count": 35,
   "id": "77f79c19",
   "metadata": {},
   "outputs": [
    {
     "data": {
      "text/plain": [
       "2"
      ]
     },
     "execution_count": 35,
     "metadata": {},
     "output_type": "execute_result"
    }
   ],
   "source": [
    "65%3"
   ]
  },
  {
   "cell_type": "code",
   "execution_count": 36,
   "id": "ec00871c",
   "metadata": {},
   "outputs": [
    {
     "data": {
      "text/plain": [
       "25.0"
      ]
     },
     "execution_count": 36,
     "metadata": {},
     "output_type": "execute_result"
    }
   ],
   "source": [
    "100/4"
   ]
  },
  {
   "cell_type": "code",
   "execution_count": 37,
   "id": "52c8ecc4",
   "metadata": {},
   "outputs": [
    {
     "data": {
      "text/plain": [
       "6"
      ]
     },
     "execution_count": 37,
     "metadata": {},
     "output_type": "execute_result"
    }
   ],
   "source": [
    "21*5\n",
    "4+2"
   ]
  },
  {
   "cell_type": "code",
   "execution_count": 2,
   "id": "67dc7fab",
   "metadata": {
    "scrolled": true
   },
   "outputs": [
    {
     "name": "stdout",
     "output_type": "stream",
     "text": [
      "105\n",
      "90\n"
     ]
    }
   ],
   "source": [
    "print(21 * 5)\n",
    "print(34+56)"
   ]
  },
  {
   "cell_type": "code",
   "execution_count": 3,
   "id": "e246d51d",
   "metadata": {},
   "outputs": [
    {
     "data": {
      "text/plain": [
       "13"
      ]
     },
     "execution_count": 3,
     "metadata": {},
     "output_type": "execute_result"
    }
   ],
   "source": [
    "3+2*5"
   ]
  },
  {
   "cell_type": "code",
   "execution_count": 4,
   "id": "7a4f54e3",
   "metadata": {},
   "outputs": [
    {
     "data": {
      "text/plain": [
       "1087.2576"
      ]
     },
     "execution_count": 4,
     "metadata": {},
     "output_type": "execute_result"
    }
   ],
   "source": [
    "23.76 *45.76"
   ]
  },
  {
   "cell_type": "code",
   "execution_count": 5,
   "id": "d850b7a4",
   "metadata": {},
   "outputs": [
    {
     "data": {
      "text/plain": [
       "136.4"
      ]
     },
     "execution_count": 5,
     "metadata": {},
     "output_type": "execute_result"
    }
   ],
   "source": [
    "3.1 * 44"
   ]
  },
  {
   "cell_type": "markdown",
   "id": "c714d6b6",
   "metadata": {},
   "source": [
    "### Yazı Veri Tipleri\n",
    "(String ve Char)"
   ]
  },
  {
   "cell_type": "raw",
   "id": "2490fd66",
   "metadata": {},
   "source": [
    "      P  |  Y  |  H  |  T  |  O  |  N\n",
    "    -----------------------------------  \n",
    "      0  |  1  |  2  |  3  |  4  |  5      İndeksler\n",
    "      0  |- 5  | -4  | -3  | -2  | -1      Ters İndeksler"
   ]
  },
  {
   "cell_type": "code",
   "execution_count": 8,
   "id": "e43b1495",
   "metadata": {},
   "outputs": [
    {
     "data": {
      "text/plain": [
       "'Python'"
      ]
     },
     "execution_count": 8,
     "metadata": {},
     "output_type": "execute_result"
    }
   ],
   "source": [
    "strvar = \"Python\"\n",
    "strvar"
   ]
  },
  {
   "cell_type": "code",
   "execution_count": 28,
   "id": "4a7d47c8",
   "metadata": {},
   "outputs": [
    {
     "name": "stdout",
     "output_type": "stream",
     "text": [
      "Python\n"
     ]
    }
   ],
   "source": [
    "strvar = \"Python\"\n",
    "print(strvar)"
   ]
  },
  {
   "cell_type": "code",
   "execution_count": 10,
   "id": "d2e1e034",
   "metadata": {},
   "outputs": [
    {
     "data": {
      "text/plain": [
       "'P'"
      ]
     },
     "execution_count": 10,
     "metadata": {},
     "output_type": "execute_result"
    }
   ],
   "source": [
    "strvar[0]"
   ]
  },
  {
   "cell_type": "code",
   "execution_count": 12,
   "id": "bb46de51",
   "metadata": {},
   "outputs": [
    {
     "data": {
      "text/plain": [
       "'o'"
      ]
     },
     "execution_count": 12,
     "metadata": {},
     "output_type": "execute_result"
    }
   ],
   "source": [
    "strvar[-2]"
   ]
  },
  {
   "cell_type": "code",
   "execution_count": 13,
   "id": "cda83be8",
   "metadata": {},
   "outputs": [
    {
     "data": {
      "text/plain": [
       "'thon'"
      ]
     },
     "execution_count": 13,
     "metadata": {},
     "output_type": "execute_result"
    }
   ],
   "source": [
    "strvar[2:]"
   ]
  },
  {
   "cell_type": "code",
   "execution_count": 15,
   "id": "e8c052f5",
   "metadata": {},
   "outputs": [],
   "source": [
    "# [] # tek bir eleman alınır\n",
    "# [:] # başlangıç ve bitiş arasındaki elemanlar alınır\n",
    "# [::] # başlangıç ve bitiş arasındaki elemanlar alınır üçüncü kkısımdaki değere göre atlayarak alınır"
   ]
  },
  {
   "cell_type": "code",
   "execution_count": 16,
   "id": "bc4f0448",
   "metadata": {},
   "outputs": [
    {
     "data": {
      "text/plain": [
       "'th'"
      ]
     },
     "execution_count": 16,
     "metadata": {},
     "output_type": "execute_result"
    }
   ],
   "source": [
    "strvar[2:4]"
   ]
  },
  {
   "cell_type": "code",
   "execution_count": 17,
   "id": "7826db8b",
   "metadata": {},
   "outputs": [
    {
     "data": {
      "text/plain": [
       "'Pyth'"
      ]
     },
     "execution_count": 17,
     "metadata": {},
     "output_type": "execute_result"
    }
   ],
   "source": [
    "strvar[:4]"
   ]
  },
  {
   "cell_type": "code",
   "execution_count": 20,
   "id": "1960778e",
   "metadata": {},
   "outputs": [
    {
     "data": {
      "text/plain": [
       "'yhn'"
      ]
     },
     "execution_count": 20,
     "metadata": {},
     "output_type": "execute_result"
    }
   ],
   "source": [
    "strvar[1:6:2]"
   ]
  },
  {
   "cell_type": "code",
   "execution_count": 21,
   "id": "61b635dc",
   "metadata": {},
   "outputs": [
    {
     "data": {
      "text/plain": [
       "'Ph'"
      ]
     },
     "execution_count": 21,
     "metadata": {},
     "output_type": "execute_result"
    }
   ],
   "source": [
    "strvar[::3]"
   ]
  },
  {
   "cell_type": "code",
   "execution_count": 22,
   "id": "b5f1ecaf",
   "metadata": {},
   "outputs": [
    {
     "data": {
      "text/plain": [
       "'Pto'"
      ]
     },
     "execution_count": 22,
     "metadata": {},
     "output_type": "execute_result"
    }
   ],
   "source": [
    "strvar[::2]"
   ]
  },
  {
   "cell_type": "code",
   "execution_count": 23,
   "id": "50748731",
   "metadata": {},
   "outputs": [
    {
     "data": {
      "text/plain": [
       "6"
      ]
     },
     "execution_count": 23,
     "metadata": {},
     "output_type": "execute_result"
    }
   ],
   "source": [
    "len(strvar)"
   ]
  },
  {
   "cell_type": "code",
   "execution_count": 43,
   "id": "20ad8b98",
   "metadata": {},
   "outputs": [
    {
     "data": {
      "text/plain": [
       "'Python öğrenelim öğrenelim öğrenelim'"
      ]
     },
     "execution_count": 43,
     "metadata": {},
     "output_type": "execute_result"
    }
   ],
   "source": [
    "strvar + \" öğrenelim\""
   ]
  },
  {
   "cell_type": "code",
   "execution_count": 47,
   "id": "f2b2d9eb",
   "metadata": {},
   "outputs": [
    {
     "data": {
      "text/plain": [
       "' Python öğrenelim'"
      ]
     },
     "execution_count": 47,
     "metadata": {},
     "output_type": "execute_result"
    }
   ],
   "source": [
    "strvar =\" Python öğrenelim\"\n",
    "strvar"
   ]
  },
  {
   "cell_type": "code",
   "execution_count": 29,
   "id": "39ae6918",
   "metadata": {},
   "outputs": [
    {
     "data": {
      "text/plain": [
       "'PythonPythonPythonPythonPythonPythonPython'"
      ]
     },
     "execution_count": 29,
     "metadata": {},
     "output_type": "execute_result"
    }
   ],
   "source": [
    "strvar * 7"
   ]
  },
  {
   "cell_type": "code",
   "execution_count": 38,
   "id": "9050221f",
   "metadata": {},
   "outputs": [
    {
     "name": "stdout",
     "output_type": "stream",
     "text": [
      "PYTHON ÖĞRENELIM\n",
      "python öğrenelim\n",
      "['Python', 'öğrenelim']\n",
      "['Python öğr', 'n', 'lim']\n",
      "['Python öğr', 'nelim']\n"
     ]
    }
   ],
   "source": [
    "print(strvar.upper())\n",
    "print(strvar.lower())\n",
    "print(strvar.split())\n",
    "print(strvar.split(\"e\"))\n",
    "print(strvar.split(sep=\"e\", maxsplit=1))"
   ]
  },
  {
   "cell_type": "code",
   "execution_count": 48,
   "id": "d440aec5",
   "metadata": {
    "scrolled": true
   },
   "outputs": [
    {
     "data": {
      "text/plain": [
       "' Python öğrenelim'"
      ]
     },
     "execution_count": 48,
     "metadata": {},
     "output_type": "execute_result"
    }
   ],
   "source": [
    "strvar"
   ]
  },
  {
   "cell_type": "code",
   "execution_count": 54,
   "id": "fe5160fc",
   "metadata": {
    "scrolled": true
   },
   "outputs": [
    {
     "data": {
      "text/plain": [
       "2"
      ]
     },
     "execution_count": 54,
     "metadata": {},
     "output_type": "execute_result"
    }
   ],
   "source": [
    "strvar.count(\"e\")"
   ]
  },
  {
   "cell_type": "code",
   "execution_count": 55,
   "id": "3d1363f2",
   "metadata": {},
   "outputs": [
    {
     "data": {
      "text/plain": [
       "b' Python \\xc3\\xb6\\xc4\\x9frenelim'"
      ]
     },
     "execution_count": 55,
     "metadata": {},
     "output_type": "execute_result"
    }
   ],
   "source": [
    "strvar.encode()"
   ]
  },
  {
   "cell_type": "code",
   "execution_count": 58,
   "id": "5134feb7",
   "metadata": {},
   "outputs": [
    {
     "ename": "NameError",
     "evalue": "name 'e' is not defined",
     "output_type": "error",
     "traceback": [
      "\u001b[1;31m---------------------------------------------------------------------------\u001b[0m",
      "\u001b[1;31mNameError\u001b[0m                                 Traceback (most recent call last)",
      "\u001b[1;32m~\\AppData\\Local\\Temp\\ipykernel_11864\\1007967477.py\u001b[0m in \u001b[0;36m<module>\u001b[1;34m\u001b[0m\n\u001b[1;32m----> 1\u001b[1;33m \u001b[0mstrvar\u001b[0m\u001b[1;33m.\u001b[0m\u001b[0mfind\u001b[0m\u001b[1;33m(\u001b[0m\u001b[0me\u001b[0m\u001b[1;33m)\u001b[0m\u001b[1;33m\u001b[0m\u001b[1;33m\u001b[0m\u001b[0m\n\u001b[0m",
      "\u001b[1;31mNameError\u001b[0m: name 'e' is not defined"
     ]
    }
   ],
   "source": [
    "strvar."
   ]
  },
  {
   "cell_type": "markdown",
   "id": "3eeda7f7",
   "metadata": {},
   "source": [
    "### Mantıki Veri Tipleri\n",
    "(Boolean)"
   ]
  },
  {
   "cell_type": "code",
   "execution_count": 60,
   "id": "5affd6a6",
   "metadata": {},
   "outputs": [
    {
     "name": "stdout",
     "output_type": "stream",
     "text": [
      "True\n",
      "False\n",
      "True\n"
     ]
    }
   ],
   "source": [
    "a = True\n",
    "b = False\n",
    "print(a)\n",
    "print(b)\n",
    "c = \"True\"\n",
    "print(c)"
   ]
  },
  {
   "cell_type": "code",
   "execution_count": 61,
   "id": "60634552",
   "metadata": {},
   "outputs": [
    {
     "name": "stdout",
     "output_type": "stream",
     "text": [
      "<class 'bool'>\n",
      "<class 'bool'>\n",
      "<class 'str'>\n"
     ]
    }
   ],
   "source": [
    "print(type(a))\n",
    "print(type(b))\n",
    "print(type(c))"
   ]
  },
  {
   "cell_type": "code",
   "execution_count": 63,
   "id": "4bab8a14",
   "metadata": {},
   "outputs": [
    {
     "name": "stdout",
     "output_type": "stream",
     "text": [
      "True\n",
      "False\n"
     ]
    }
   ],
   "source": [
    "yas1 = 20\n",
    "yas2 = 18\n",
    "\n",
    "print(yas1 > 18)\n",
    "\n",
    "print(yas2 > 18)"
   ]
  },
  {
   "cell_type": "code",
   "execution_count": 67,
   "id": "310fa1ea",
   "metadata": {
    "scrolled": true
   },
   "outputs": [
    {
     "data": {
      "text/plain": [
       "True"
      ]
     },
     "execution_count": 67,
     "metadata": {},
     "output_type": "execute_result"
    }
   ],
   "source": [
    "yas2 == 18"
   ]
  },
  {
   "cell_type": "code",
   "execution_count": 66,
   "id": "e9922d8d",
   "metadata": {},
   "outputs": [
    {
     "data": {
      "text/plain": [
       "False"
      ]
     },
     "execution_count": 66,
     "metadata": {},
     "output_type": "execute_result"
    }
   ],
   "source": [
    "yas1 == 18"
   ]
  },
  {
   "cell_type": "code",
   "execution_count": 68,
   "id": "6571e5fd",
   "metadata": {},
   "outputs": [
    {
     "data": {
      "text/plain": [
       "False"
      ]
     },
     "execution_count": 68,
     "metadata": {},
     "output_type": "execute_result"
    }
   ],
   "source": [
    "yas2 != 18"
   ]
  },
  {
   "cell_type": "code",
   "execution_count": 69,
   "id": "53f3937f",
   "metadata": {},
   "outputs": [
    {
     "data": {
      "text/plain": [
       "False"
      ]
     },
     "execution_count": 69,
     "metadata": {},
     "output_type": "execute_result"
    }
   ],
   "source": [
    "not yas1 > 18"
   ]
  },
  {
   "cell_type": "markdown",
   "id": "34e15ae3",
   "metadata": {},
   "source": [
    "### Koleksiyon Veri Tipleri\n",
    "(List ve Set)"
   ]
  },
  {
   "cell_type": "raw",
   "id": "28a36ddd",
   "metadata": {},
   "source": [
    "    [ a  ,  b  ,  c  ,  d  ,  e  ,  a  ]\n",
    "    -----------------------------------  \n",
    "      0  |  1  |  2  |  3  |  4  |  5      İndeksler\n",
    "      0  |- 5  | -4  | -3  | -2  | -1      Ters İndeksler"
   ]
  },
  {
   "cell_type": "code",
   "execution_count": 74,
   "id": "cb6298f3",
   "metadata": {},
   "outputs": [
    {
     "name": "stdout",
     "output_type": "stream",
     "text": [
      "['a', 'b', 'c', 'd', 'e', 'a']\n"
     ]
    }
   ],
   "source": [
    "liste = [\"a\", \"b\", \"c\", \"d\", \"e\", \"a\"]\n",
    "print(liste)"
   ]
  },
  {
   "cell_type": "code",
   "execution_count": 71,
   "id": "d77cd20d",
   "metadata": {},
   "outputs": [
    {
     "ename": "TypeError",
     "evalue": "can only concatenate list (not \"str\") to list",
     "output_type": "error",
     "traceback": [
      "\u001b[1;31m---------------------------------------------------------------------------\u001b[0m",
      "\u001b[1;31mTypeError\u001b[0m                                 Traceback (most recent call last)",
      "\u001b[1;32m~\\AppData\\Local\\Temp\\ipykernel_11864\\1809948542.py\u001b[0m in \u001b[0;36m<module>\u001b[1;34m\u001b[0m\n\u001b[1;32m----> 1\u001b[1;33m \u001b[0mliste\u001b[0m \u001b[1;33m=\u001b[0m \u001b[0mliste\u001b[0m \u001b[1;33m+\u001b[0m \u001b[1;34m\"f\"\u001b[0m\u001b[1;33m\u001b[0m\u001b[1;33m\u001b[0m\u001b[0m\n\u001b[0m",
      "\u001b[1;31mTypeError\u001b[0m: can only concatenate list (not \"str\") to list"
     ]
    }
   ],
   "source": [
    "liste = liste + \"f\""
   ]
  },
  {
   "cell_type": "code",
   "execution_count": 75,
   "id": "c6b8d2e3",
   "metadata": {},
   "outputs": [
    {
     "data": {
      "text/plain": [
       "['a', 'b', 'c', 'd', 'e', 'a', 'f']"
      ]
     },
     "execution_count": 75,
     "metadata": {},
     "output_type": "execute_result"
    }
   ],
   "source": [
    "liste = liste + [\"f\"]\n",
    "liste"
   ]
  },
  {
   "cell_type": "code",
   "execution_count": 77,
   "id": "47fd7fe6",
   "metadata": {},
   "outputs": [
    {
     "data": {
      "text/plain": [
       "['a', 'b', 'c', 'd', 'e', 'a', 'f', True, 21, 10.5, True, 21, 10.5]"
      ]
     },
     "execution_count": 77,
     "metadata": {},
     "output_type": "execute_result"
    }
   ],
   "source": [
    "liste = liste + [True, 21, 10.5]\n",
    "liste"
   ]
  },
  {
   "cell_type": "raw",
   "id": "466af755",
   "metadata": {},
   "source": [
    "List Slicing and Indexing (Ayırma ve İndeksleme)"
   ]
  },
  {
   "cell_type": "code",
   "execution_count": 78,
   "id": "2ea4d22b",
   "metadata": {},
   "outputs": [
    {
     "data": {
      "text/plain": [
       "'a'"
      ]
     },
     "execution_count": 78,
     "metadata": {},
     "output_type": "execute_result"
    }
   ],
   "source": [
    "liste[0]"
   ]
  },
  {
   "cell_type": "code",
   "execution_count": 80,
   "id": "5ac3e452",
   "metadata": {},
   "outputs": [
    {
     "data": {
      "text/plain": [
       "['d', 'e', 'a', 'f', True, 21]"
      ]
     },
     "execution_count": 80,
     "metadata": {},
     "output_type": "execute_result"
    }
   ],
   "source": [
    "liste[3:9]"
   ]
  },
  {
   "cell_type": "code",
   "execution_count": 84,
   "id": "8e460efc",
   "metadata": {},
   "outputs": [
    {
     "data": {
      "text/plain": [
       "['a', 'b', 'c', 'd', 'e', 'a', 'f', True, 21, 10.5, True, 21, 10.5, 'g', 'x']"
      ]
     },
     "execution_count": 84,
     "metadata": {},
     "output_type": "execute_result"
    }
   ],
   "source": [
    "liste.append(\"x\")\n",
    "liste"
   ]
  },
  {
   "cell_type": "code",
   "execution_count": 85,
   "id": "832e4a9a",
   "metadata": {},
   "outputs": [
    {
     "data": {
      "text/plain": [
       "'x'"
      ]
     },
     "execution_count": 85,
     "metadata": {},
     "output_type": "execute_result"
    }
   ],
   "source": [
    "liste.pop()"
   ]
  },
  {
   "cell_type": "code",
   "execution_count": 86,
   "id": "58fd6fe2",
   "metadata": {},
   "outputs": [
    {
     "data": {
      "text/plain": [
       "['a', 'b', 'c', 'd', 'e', 'a', 'f', True, 21, 10.5, True, 21, 10.5, 'g']"
      ]
     },
     "execution_count": 86,
     "metadata": {},
     "output_type": "execute_result"
    }
   ],
   "source": [
    "liste"
   ]
  },
  {
   "cell_type": "code",
   "execution_count": 88,
   "id": "f81afc14",
   "metadata": {},
   "outputs": [
    {
     "name": "stdout",
     "output_type": "stream",
     "text": [
      "['a', 'b', 'c', 'd', 'e', 'a', 'f', 10.5, True, 21, 10.5, 'g']\n"
     ]
    }
   ],
   "source": [
    "liste.pop(7)\n",
    "print(liste)"
   ]
  },
  {
   "cell_type": "code",
   "execution_count": 91,
   "id": "3c02068a",
   "metadata": {},
   "outputs": [
    {
     "data": {
      "text/plain": [
       "[12, 14, 33, 66, 76, 76, 87, 211, 343, 554, 667, 3345]"
      ]
     },
     "execution_count": 91,
     "metadata": {},
     "output_type": "execute_result"
    }
   ],
   "source": [
    "sayilar = [343,554,667,3345,66,12,76,211,76,33,14,87]\n",
    "sayilar.sort()\n",
    "sayilar"
   ]
  },
  {
   "cell_type": "code",
   "execution_count": 92,
   "id": "06d49dbd",
   "metadata": {},
   "outputs": [
    {
     "data": {
      "text/plain": [
       "[3345, 667, 554, 343, 211, 87, 76, 76, 66, 33, 14, 12]"
      ]
     },
     "execution_count": 92,
     "metadata": {},
     "output_type": "execute_result"
    }
   ],
   "source": [
    "sayilar.reverse()\n",
    "sayilar"
   ]
  },
  {
   "cell_type": "code",
   "execution_count": 93,
   "id": "b99124c4",
   "metadata": {},
   "outputs": [
    {
     "data": {
      "text/plain": [
       "{12, 14, 33, 66, 76, 87, 211, 343, 554, 667, 3345}"
      ]
     },
     "execution_count": 93,
     "metadata": {},
     "output_type": "execute_result"
    }
   ],
   "source": [
    "set(sayilar)"
   ]
  },
  {
   "cell_type": "markdown",
   "id": "2b33c492",
   "metadata": {},
   "source": [
    "### Sabit Koleksiyon Veri Tipi\n",
    "(Tuple) - Immutable (Değiştirilemez)"
   ]
  },
  {
   "cell_type": "code",
   "execution_count": 8,
   "id": "3a46b50a",
   "metadata": {},
   "outputs": [
    {
     "name": "stdout",
     "output_type": "stream",
     "text": [
      "['a', 'b', 'c', 'd', 'e', 'a']\n",
      "<class 'list'>\n",
      "('a', 'b', 'c', 'd', 'e', 'a')\n",
      "<class 'tuple'>\n"
     ]
    }
   ],
   "source": [
    "liste = [\"a\", \"b\", \"c\", \"d\", \"e\", \"a\"]\n",
    "print(liste)\n",
    "print(type(liste))\n",
    "my_tup = (\"a\", \"b\", \"c\", \"d\", \"e\", \"a\")\n",
    "print(my_tup)\n",
    "print(type(my_tup))"
   ]
  },
  {
   "cell_type": "code",
   "execution_count": 9,
   "id": "326e3a89",
   "metadata": {},
   "outputs": [
    {
     "data": {
      "text/plain": [
       "'a'"
      ]
     },
     "execution_count": 9,
     "metadata": {},
     "output_type": "execute_result"
    }
   ],
   "source": [
    "liste[0]"
   ]
  },
  {
   "cell_type": "code",
   "execution_count": 11,
   "id": "422b028b",
   "metadata": {},
   "outputs": [
    {
     "data": {
      "text/plain": [
       "[12343, 'b', 'c', 'd', 'e', 'a']"
      ]
     },
     "execution_count": 11,
     "metadata": {},
     "output_type": "execute_result"
    }
   ],
   "source": [
    "liste[0] = 12343\n",
    "liste"
   ]
  },
  {
   "cell_type": "code",
   "execution_count": 12,
   "id": "ea6ae0d0",
   "metadata": {},
   "outputs": [
    {
     "data": {
      "text/plain": [
       "'a'"
      ]
     },
     "execution_count": 12,
     "metadata": {},
     "output_type": "execute_result"
    }
   ],
   "source": [
    "my_tup[0]"
   ]
  },
  {
   "cell_type": "code",
   "execution_count": 13,
   "id": "3b79a02c",
   "metadata": {
    "scrolled": true
   },
   "outputs": [
    {
     "ename": "TypeError",
     "evalue": "'tuple' object does not support item assignment",
     "output_type": "error",
     "traceback": [
      "\u001b[1;31m---------------------------------------------------------------------------\u001b[0m",
      "\u001b[1;31mTypeError\u001b[0m                                 Traceback (most recent call last)",
      "\u001b[1;32m~\\AppData\\Local\\Temp\\ipykernel_12616\\243374077.py\u001b[0m in \u001b[0;36m<module>\u001b[1;34m\u001b[0m\n\u001b[1;32m----> 1\u001b[1;33m \u001b[0mmy_tup\u001b[0m\u001b[1;33m[\u001b[0m\u001b[1;36m0\u001b[0m\u001b[1;33m]\u001b[0m \u001b[1;33m=\u001b[0m \u001b[1;36m1234\u001b[0m\u001b[1;33m\u001b[0m\u001b[1;33m\u001b[0m\u001b[0m\n\u001b[0m",
      "\u001b[1;31mTypeError\u001b[0m: 'tuple' object does not support item assignment"
     ]
    }
   ],
   "source": [
    "my_tup[0] = 1234 # immutable"
   ]
  },
  {
   "cell_type": "code",
   "execution_count": 14,
   "id": "38622142",
   "metadata": {},
   "outputs": [
    {
     "data": {
      "text/plain": [
       "('a', 'b', 'c', 'd', 'e', 'a')"
      ]
     },
     "execution_count": 14,
     "metadata": {},
     "output_type": "execute_result"
    }
   ],
   "source": [
    "my_tup"
   ]
  },
  {
   "cell_type": "code",
   "execution_count": 16,
   "id": "6b55944a",
   "metadata": {},
   "outputs": [
    {
     "ename": "TypeError",
     "evalue": "tuple.count() takes exactly one argument (0 given)",
     "output_type": "error",
     "traceback": [
      "\u001b[1;31m---------------------------------------------------------------------------\u001b[0m",
      "\u001b[1;31mTypeError\u001b[0m                                 Traceback (most recent call last)",
      "\u001b[1;32m~\\AppData\\Local\\Temp\\ipykernel_12616\\43704468.py\u001b[0m in \u001b[0;36m<module>\u001b[1;34m\u001b[0m\n\u001b[1;32m----> 1\u001b[1;33m \u001b[0mmy_tup\u001b[0m\u001b[1;33m.\u001b[0m\u001b[0mcount\u001b[0m\u001b[1;33m(\u001b[0m\u001b[1;33m)\u001b[0m\u001b[1;33m\u001b[0m\u001b[1;33m\u001b[0m\u001b[0m\n\u001b[0m",
      "\u001b[1;31mTypeError\u001b[0m: tuple.count() takes exactly one argument (0 given)"
     ]
    }
   ],
   "source": [
    "my_tup.count()"
   ]
  },
  {
   "cell_type": "code",
   "execution_count": 17,
   "id": "d7ad120d",
   "metadata": {},
   "outputs": [
    {
     "data": {
      "text/plain": [
       "2"
      ]
     },
     "execution_count": 17,
     "metadata": {},
     "output_type": "execute_result"
    }
   ],
   "source": [
    "my_tup.count(\"a\")"
   ]
  },
  {
   "cell_type": "code",
   "execution_count": 18,
   "id": "dbea68d1",
   "metadata": {},
   "outputs": [
    {
     "data": {
      "text/plain": [
       "1"
      ]
     },
     "execution_count": 18,
     "metadata": {},
     "output_type": "execute_result"
    }
   ],
   "source": [
    "my_tup.count(\"d\")"
   ]
  },
  {
   "cell_type": "code",
   "execution_count": 19,
   "id": "d088e3a9",
   "metadata": {},
   "outputs": [
    {
     "data": {
      "text/plain": [
       "0"
      ]
     },
     "execution_count": 19,
     "metadata": {},
     "output_type": "execute_result"
    }
   ],
   "source": [
    "my_tup.count(False)"
   ]
  },
  {
   "cell_type": "code",
   "execution_count": 23,
   "id": "a5d79c22",
   "metadata": {},
   "outputs": [
    {
     "ename": "TypeError",
     "evalue": "tuple.index() takes no keyword arguments",
     "output_type": "error",
     "traceback": [
      "\u001b[1;31m---------------------------------------------------------------------------\u001b[0m",
      "\u001b[1;31mTypeError\u001b[0m                                 Traceback (most recent call last)",
      "\u001b[1;32m~\\AppData\\Local\\Temp\\ipykernel_12616\\3655731153.py\u001b[0m in \u001b[0;36m<module>\u001b[1;34m\u001b[0m\n\u001b[1;32m----> 1\u001b[1;33m \u001b[0mmy_tup\u001b[0m\u001b[1;33m.\u001b[0m\u001b[0mindex\u001b[0m\u001b[1;33m(\u001b[0m\u001b[1;34m\"b\"\u001b[0m\u001b[1;33m,\u001b[0m \u001b[0mstart\u001b[0m\u001b[1;33m=\u001b[0m \u001b[1;36m2\u001b[0m\u001b[1;33m)\u001b[0m\u001b[1;33m\u001b[0m\u001b[1;33m\u001b[0m\u001b[0m\n\u001b[0m",
      "\u001b[1;31mTypeError\u001b[0m: tuple.index() takes no keyword arguments"
     ]
    }
   ],
   "source": [
    "my_tup.index(\"b\")"
   ]
  },
  {
   "cell_type": "code",
   "execution_count": 24,
   "id": "ef115130",
   "metadata": {},
   "outputs": [
    {
     "data": {
      "text/plain": [
       "0"
      ]
     },
     "execution_count": 24,
     "metadata": {},
     "output_type": "execute_result"
    }
   ],
   "source": [
    "my_tup.index(\"a\") # ilk \"a\" nın indeksi"
   ]
  },
  {
   "cell_type": "markdown",
   "id": "bec80266",
   "metadata": {},
   "source": [
    "### Çok Boyutlu Veri Tipleri\n",
    "(Dictionary)"
   ]
  },
  {
   "cell_type": "code",
   "execution_count": 31,
   "id": "2820d231",
   "metadata": {},
   "outputs": [
    {
     "data": {
      "text/plain": [
       "{'isim': 'Arif', 'yas': 57, 'lokasyon': 'Ankara'}"
      ]
     },
     "execution_count": 31,
     "metadata": {},
     "output_type": "execute_result"
    }
   ],
   "source": [
    "dict1 = {\"isim\": \"Arif\", \"yas\": 57, \"lokasyon\": \"Ankara\"}\n",
    "dict1"
   ]
  },
  {
   "cell_type": "code",
   "execution_count": 32,
   "id": "396e1eca",
   "metadata": {},
   "outputs": [
    {
     "data": {
      "text/plain": [
       "{'isim': 'Arif', 'yas': 57, 'lokasyon': 'Ankara'}"
      ]
     },
     "execution_count": 32,
     "metadata": {},
     "output_type": "execute_result"
    }
   ],
   "source": [
    "# for readable code\n",
    "dict1 = {\n",
    "    \"isim\": \"Arif\", \n",
    "    \"yas\": 57, \n",
    "    \"lokasyon\": \"Ankara\"\n",
    "}\n",
    "dict1"
   ]
  },
  {
   "cell_type": "code",
   "execution_count": 35,
   "id": "f18f6f65",
   "metadata": {},
   "outputs": [
    {
     "data": {
      "text/plain": [
       "['a', 'b', 'c', ['s', 12, [5, 'q', 'r']], 'd', 'e', 'a']"
      ]
     },
     "execution_count": 35,
     "metadata": {},
     "output_type": "execute_result"
    }
   ],
   "source": [
    "#nested list\n",
    "liste = [\"a\", \"b\", \"c\", [\"s\", 12, [5, \"q\", \"r\"]], \"d\", \"e\", \"a\"]\n",
    "liste"
   ]
  },
  {
   "cell_type": "code",
   "execution_count": 44,
   "id": "18083f7e",
   "metadata": {},
   "outputs": [
    {
     "data": {
      "text/plain": [
       "{'isim': 'Arif',\n",
       " 'yas': 57,\n",
       " 'dogdugu_sehir': 'Denizli',\n",
       " 'yasadigi_sehir': 'Ankara'}"
      ]
     },
     "execution_count": 44,
     "metadata": {},
     "output_type": "execute_result"
    }
   ],
   "source": [
    "#nested dictionary\n",
    "dict2 = {\n",
    "    \"isim\": \"Arif\", \n",
    "    \"yas\": 57,\n",
    "    \"dogdugu_sehir\":\"Denizli\",\n",
    "    \"yasadigi_sehir\": \"Ankara\"\n",
    "    #\"lokasyon\": \"Ankara\"\n",
    "}\n",
    "dict2"
   ]
  },
  {
   "cell_type": "code",
   "execution_count": 43,
   "id": "7e39cff0",
   "metadata": {},
   "outputs": [
    {
     "data": {
      "text/plain": [
       "{'isim': 'Arif',\n",
       " 'yas': 57,\n",
       " 'dogdugu_sehir': 'Denizli',\n",
       " 'yasadigi_sehir': 'Ankara'}"
      ]
     },
     "execution_count": 43,
     "metadata": {},
     "output_type": "execute_result"
    }
   ],
   "source": [
    "dict2 = {\n",
    "    \"isim\": \"Arif\", \n",
    "    \"yas\": 57,\n",
    "    \"dogdugu_sehir\" :\"Denizli\",\n",
    "    \"yasadigi_sehir\": \"Ankara\"\n",
    "}\n",
    "dict2"
   ]
  },
  {
   "cell_type": "code",
   "execution_count": 47,
   "id": "96360707",
   "metadata": {},
   "outputs": [
    {
     "data": {
      "text/plain": [
       "{'isim': 'Arif',\n",
       " 'yas': 57,\n",
       " 'lokasyon': {'dogdugu_sehir': 'Denizli', 'yasadigi_sehir': 'Ankara'}}"
      ]
     },
     "execution_count": 47,
     "metadata": {},
     "output_type": "execute_result"
    }
   ],
   "source": [
    "#nested dictionary\n",
    "dict3 = {\n",
    "    \"isim\": \"Arif\", \n",
    "    \"yas\": 57,\n",
    "    \"lokasyon\": {\n",
    "        \"dogdugu_sehir\" :\"Denizli\",\n",
    "        \"yasadigi_sehir\": \"Ankara\",\n",
    "    }\n",
    "}\n",
    "dict3"
   ]
  },
  {
   "cell_type": "code",
   "execution_count": 48,
   "id": "bc83b08b",
   "metadata": {},
   "outputs": [
    {
     "data": {
      "text/plain": [
       "57"
      ]
     },
     "execution_count": 48,
     "metadata": {},
     "output_type": "execute_result"
    }
   ],
   "source": [
    "dict3[\"yas\"]"
   ]
  },
  {
   "cell_type": "code",
   "execution_count": 49,
   "id": "1d4e134b",
   "metadata": {},
   "outputs": [
    {
     "data": {
      "text/plain": [
       "{'dogdugu_sehir': 'Denizli', 'yasadigi_sehir': 'Ankara'}"
      ]
     },
     "execution_count": 49,
     "metadata": {},
     "output_type": "execute_result"
    }
   ],
   "source": [
    "dict3[\"lokasyon\"]"
   ]
  },
  {
   "cell_type": "code",
   "execution_count": 51,
   "id": "75333189",
   "metadata": {},
   "outputs": [
    {
     "data": {
      "text/plain": [
       "'Ankara'"
      ]
     },
     "execution_count": 51,
     "metadata": {},
     "output_type": "execute_result"
    }
   ],
   "source": [
    "dict1[\"lokasyon\"]"
   ]
  },
  {
   "cell_type": "code",
   "execution_count": 52,
   "id": "2917b649",
   "metadata": {},
   "outputs": [
    {
     "data": {
      "text/plain": [
       "'Ankara'"
      ]
     },
     "execution_count": 52,
     "metadata": {},
     "output_type": "execute_result"
    }
   ],
   "source": [
    "dict3[\"lokasyon\"][\"yasadigi_sehir\"]"
   ]
  },
  {
   "cell_type": "code",
   "execution_count": 53,
   "id": "ca196341",
   "metadata": {},
   "outputs": [
    {
     "data": {
      "text/plain": [
       "57"
      ]
     },
     "execution_count": 53,
     "metadata": {},
     "output_type": "execute_result"
    }
   ],
   "source": [
    "dict3.get(\"yas\")"
   ]
  },
  {
   "cell_type": "code",
   "execution_count": 54,
   "id": "e1f79695",
   "metadata": {},
   "outputs": [
    {
     "data": {
      "text/plain": [
       "{'dogdugu_sehir': 'Denizli', 'yasadigi_sehir': 'Ankara'}"
      ]
     },
     "execution_count": 54,
     "metadata": {},
     "output_type": "execute_result"
    }
   ],
   "source": [
    "dict3.get(\"lokasyon\")"
   ]
  },
  {
   "cell_type": "code",
   "execution_count": 55,
   "id": "d4a643af",
   "metadata": {},
   "outputs": [
    {
     "data": {
      "text/plain": [
       "'Denizli'"
      ]
     },
     "execution_count": 55,
     "metadata": {},
     "output_type": "execute_result"
    }
   ],
   "source": [
    "dict3.get(\"lokasyon\").get(\"dogdugu_sehir\")"
   ]
  },
  {
   "cell_type": "code",
   "execution_count": 58,
   "id": "00402c0b",
   "metadata": {},
   "outputs": [
    {
     "data": {
      "text/plain": [
       "dict_keys(['isim', 'yas', 'dogdugu_sehir', 'yasadigi_sehir'])"
      ]
     },
     "execution_count": 58,
     "metadata": {},
     "output_type": "execute_result"
    }
   ],
   "source": [
    "dict2.keys()"
   ]
  },
  {
   "cell_type": "code",
   "execution_count": 60,
   "id": "fb11a962",
   "metadata": {},
   "outputs": [
    {
     "data": {
      "text/plain": [
       "dict_values(['Arif', 57, 'Denizli', 'Ankara'])"
      ]
     },
     "execution_count": 60,
     "metadata": {},
     "output_type": "execute_result"
    }
   ],
   "source": [
    "dict2.values()"
   ]
  },
  {
   "cell_type": "code",
   "execution_count": 61,
   "id": "55fb73ae",
   "metadata": {},
   "outputs": [
    {
     "data": {
      "text/plain": [
       "dict_items([('isim', 'Arif'), ('yas', 57), ('dogdugu_sehir', 'Denizli'), ('yasadigi_sehir', 'Ankara')])"
      ]
     },
     "execution_count": 61,
     "metadata": {},
     "output_type": "execute_result"
    }
   ],
   "source": [
    "dict2.items()"
   ]
  },
  {
   "cell_type": "markdown",
   "id": "b330faab",
   "metadata": {},
   "source": [
    "### IF Sorguları"
   ]
  },
  {
   "cell_type": "raw",
   "id": "865f2972",
   "metadata": {},
   "source": [
    "#Kullanım Senaryosu-1\n",
    "\n",
    "if <koşul sağlıyorsa>:\n",
    "    <burada yazılanı yap>"
   ]
  },
  {
   "cell_type": "code",
   "execution_count": 1,
   "id": "2a2370cf",
   "metadata": {},
   "outputs": [
    {
     "name": "stdout",
     "output_type": "stream",
     "text": [
      "semsiyeni al!\n"
     ]
    }
   ],
   "source": [
    "hava_durumu = \"yagisli\"\n",
    "\n",
    "if hava_durumu == \"yagisli\":\n",
    "    print(\"semsiyeni al!\")"
   ]
  },
  {
   "cell_type": "code",
   "execution_count": 3,
   "id": "3983b312",
   "metadata": {},
   "outputs": [],
   "source": [
    "hava_durumu = \"karli\" \n",
    "\n",
    "if hava_durumu == \"yagisli\":\n",
    "    print(\"semsiyeni al!\")\n",
    "# no output"
   ]
  },
  {
   "cell_type": "raw",
   "id": "0d354613",
   "metadata": {},
   "source": [
    "#Kullanım Senaryosu-2\n",
    "\n",
    "if <koşul sağlıyorsa>:\n",
    "    <burada yazılanı yap>\n",
    "else:\n",
    "    <burada yazılanı yap>"
   ]
  },
  {
   "cell_type": "code",
   "execution_count": 1,
   "id": "f3a996f7",
   "metadata": {},
   "outputs": [
    {
     "name": "stdout",
     "output_type": "stream",
     "text": [
      "Sorun yok!\n"
     ]
    }
   ],
   "source": [
    "hava_durumu = \"karli\" \n",
    "\n",
    "if hava_durumu == \"yagisli\":\n",
    "    print(\"semsiyeni al!\")\n",
    "else:\n",
    "    print(\"Sorun yok!\")"
   ]
  },
  {
   "cell_type": "raw",
   "id": "d77090c9",
   "metadata": {},
   "source": [
    "if <koşul sağlanıyorsa>:\n",
    "    <burada yazılanı yap>\n",
    "elif <alternatif kosul saglaniyorsa>:\n",
    "    <burada yazilani yap>\n",
    "else:\n",
    "    <burada yazılanı yap>"
   ]
  },
  {
   "cell_type": "code",
   "execution_count": 6,
   "id": "46ee05d9",
   "metadata": {},
   "outputs": [
    {
     "name": "stdout",
     "output_type": "stream",
     "text": [
      "Semsiyeni al!\n"
     ]
    }
   ],
   "source": [
    "hava_durumu = \"yagisli\" \n",
    "\n",
    "if hava_durumu == \"yagisli\":\n",
    "    print(\"Semsiyeni al!\")\n",
    "elif hava_durumu == \"karli\":\n",
    "    print(\"Atkini al!\")\n",
    "    \n",
    "else:\n",
    "    print(\"Sorun yok!\")"
   ]
  },
  {
   "cell_type": "code",
   "execution_count": 10,
   "id": "1e9f0732",
   "metadata": {},
   "outputs": [
    {
     "name": "stdout",
     "output_type": "stream",
     "text": [
      "Merhaba, Buyurun!\n"
     ]
    }
   ],
   "source": [
    "yas = 57\n",
    "if yas > 18:\n",
    "    print(\"Merhaba, Buyurun!\")\n",
    "else:\n",
    "    print(\"Üzgünüm, Sen buraya giremezsin!\")"
   ]
  },
  {
   "cell_type": "code",
   "execution_count": 11,
   "id": "33e57e87",
   "metadata": {},
   "outputs": [
    {
     "name": "stdout",
     "output_type": "stream",
     "text": [
      "Üzgünüm, Sen buraya giremezsin!\n"
     ]
    }
   ],
   "source": [
    "yas = 13\n",
    "if yas > 18:\n",
    "    print(\"Merhaba, Buyurun!\")\n",
    "else:\n",
    "    print(\"Üzgünüm, Sen buraya giremezsin!\")"
   ]
  },
  {
   "cell_type": "code",
   "execution_count": 13,
   "id": "4b630b97",
   "metadata": {},
   "outputs": [
    {
     "name": "stdout",
     "output_type": "stream",
     "text": [
      "mevcut değil\n"
     ]
    }
   ],
   "source": [
    "liste = [\"a\", \"b\", \"c\"]\n",
    "\n",
    "hedef_harf = \"d\"\n",
    "\n",
    "if hedef_harf in liste:\n",
    "    print(\"buldum\")\n",
    "else:\n",
    "    print(\"mevcut değil\")"
   ]
  },
  {
   "cell_type": "code",
   "execution_count": 14,
   "id": "47c2e322",
   "metadata": {},
   "outputs": [
    {
     "name": "stdout",
     "output_type": "stream",
     "text": [
      "['a', 'b', 'c', 'd']\n"
     ]
    }
   ],
   "source": [
    "liste = [\"a\", \"b\", \"c\"]\n",
    "\n",
    "hedef_harf = \"d\"\n",
    "\n",
    "if hedef_harf in liste:\n",
    "    print(\"buldum\")\n",
    "else:\n",
    "    liste.append(hedef_harf)\n",
    "    print(liste)"
   ]
  },
  {
   "cell_type": "code",
   "execution_count": 15,
   "id": "a89c3d73",
   "metadata": {},
   "outputs": [
    {
     "name": "stdout",
     "output_type": "stream",
     "text": [
      "Güncel liste: ['a', 'b', 'c', 'd']\n"
     ]
    }
   ],
   "source": [
    "liste = [\"a\", \"b\", \"c\"]\n",
    "\n",
    "hedef_harf = \"d\"\n",
    "\n",
    "if hedef_harf in liste:\n",
    "    print(\"buldum\")\n",
    "else:\n",
    "    liste.append(hedef_harf)\n",
    "    print(\"Güncel liste: {}\".format(liste))"
   ]
  },
  {
   "cell_type": "code",
   "execution_count": 21,
   "id": "644a5521",
   "metadata": {},
   "outputs": [
    {
     "name": "stdout",
     "output_type": "stream",
     "text": [
      "buldum ve ilk harf konumunda\n"
     ]
    }
   ],
   "source": [
    "hedef_harf = \"a\"\n",
    "if (hedef_harf in liste) and (hedef_harf == liste[0]):\n",
    "    print(\"buldum ve ilk harf konumunda\")\n",
    "elif hedef_harf in liste:\n",
    "    print(\"buldum ama ilk konumda değil\")\n",
    "else:\n",
    "    liste.append(hedef_harf)\n",
    "    print(\"Güncel liste: {}\".format(liste))"
   ]
  },
  {
   "cell_type": "code",
   "execution_count": 24,
   "id": "800bd25c",
   "metadata": {},
   "outputs": [
    {
     "name": "stdout",
     "output_type": "stream",
     "text": [
      "buldum ve ilk harf konumunda\n"
     ]
    }
   ],
   "source": [
    "hedef_harf = \"b\"\n",
    "if hedef_harf in liste:    # sorgulamaların sırası önemli alt alta sorgulamalarda şart sağlandığında sorgu biter \n",
    "    print(\"buldum ve ilk harf konumunda\")   #alt sıradaki şartlara bakılmaz\n",
    "elif (hedef_harf in liste) and (hedef_harf == liste[0]):\n",
    "    print(\"buldum ama ilk konumda değil\")\n",
    "else:\n",
    "    liste.append(hedef_harf)\n",
    "    print(\"Güncel liste: {}\".format(liste))"
   ]
  },
  {
   "cell_type": "markdown",
   "id": "dcca57d2",
   "metadata": {},
   "source": [
    "### Listelerde For Döngüleri\n",
    "Loops"
   ]
  },
  {
   "cell_type": "code",
   "execution_count": 25,
   "id": "ed35a381",
   "metadata": {},
   "outputs": [],
   "source": [
    "#Kullanım Yapısı\n",
    "\n",
    "# for <eleman> in <iterable>:\n",
    "#    <buraya yazilani yap>"
   ]
  },
  {
   "cell_type": "code",
   "execution_count": 26,
   "id": "bd6cad94",
   "metadata": {},
   "outputs": [],
   "source": [
    "yorum_birakanlar = [\"Ismail Aydemir\", \"Uygar Aydin\", \"Naz Yagcioglu\",\"Ferhat Ibrik\",\"Ulas Acil\", \"Bilal Kurucay\"]"
   ]
  },
  {
   "cell_type": "code",
   "execution_count": 27,
   "id": "a8188050",
   "metadata": {},
   "outputs": [
    {
     "name": "stdout",
     "output_type": "stream",
     "text": [
      "Ismail Aydemir\n",
      "Uygar Aydin\n",
      "Naz Yagcioglu\n",
      "Ferhat Ibrik\n",
      "Ulas Acil\n",
      "Bilal Kurucay\n"
     ]
    }
   ],
   "source": [
    "for  kullanici in yorum_birakanlar:\n",
    "    print(kullanici)"
   ]
  },
  {
   "cell_type": "code",
   "execution_count": 33,
   "id": "a18a9d4d",
   "metadata": {},
   "outputs": [
    {
     "name": "stdout",
     "output_type": "stream",
     "text": [
      "1 Ismail Aydemir\n",
      "2 Uygar Aydin\n",
      "3 Naz Yagcioglu\n",
      "4 Ferhat Ibrik\n",
      "5 Ulas Acil\n",
      "6 Bilal Kurucay\n"
     ]
    }
   ],
   "source": [
    "kullanici_sayisi = 0\n",
    "\n",
    "for kullanici in yorum_birakanlar:\n",
    "    kullanici_sayisi = kullanici_sayisi + 1\n",
    "    print(kullanici_sayisi, kullanici)"
   ]
  },
  {
   "cell_type": "code",
   "execution_count": 35,
   "id": "0d9f66fd",
   "metadata": {},
   "outputs": [
    {
     "name": "stdout",
     "output_type": "stream",
     "text": [
      "0 Ismail Aydemir\n",
      "1 Uygar Aydin\n",
      "2 Naz Yagcioglu\n",
      "3 Ferhat Ibrik\n",
      "4 Ulas Acil\n",
      "5 Bilal Kurucay\n"
     ]
    }
   ],
   "source": [
    "kullanici_sayisi = 0\n",
    "\n",
    "for kullanici in yorum_birakanlar:\n",
    "    \n",
    "    print(kullanici_sayisi, kullanici)\n",
    "    \n",
    "    kullanici_sayisi = kullanici_sayisi + 1 # artırma printten sonra olduğu için 1 yerine o dan başladı"
   ]
  },
  {
   "cell_type": "code",
   "execution_count": 37,
   "id": "d21bae91",
   "metadata": {},
   "outputs": [
    {
     "data": {
      "text/plain": [
       "['Ismail', 'Aydemir']"
      ]
     },
     "execution_count": 37,
     "metadata": {},
     "output_type": "execute_result"
    }
   ],
   "source": [
    "yorum_birakanlar[0].split()"
   ]
  },
  {
   "cell_type": "code",
   "execution_count": 41,
   "id": "248a857c",
   "metadata": {},
   "outputs": [],
   "source": [
    "ad, soyad = yorum_birakanlar[0].split()[0], yorum_birakanlar[1].split()[1]"
   ]
  },
  {
   "cell_type": "code",
   "execution_count": 42,
   "id": "19cf460a",
   "metadata": {},
   "outputs": [
    {
     "name": "stdout",
     "output_type": "stream",
     "text": [
      "Ismail\n",
      "Aydin\n"
     ]
    }
   ],
   "source": [
    "ad = yorum_birakanlar[0].split()[0]\n",
    "soyad =yorum_birakanlar[1].split()[1]\n",
    "print(ad)\n",
    "print(soyad)"
   ]
  },
  {
   "cell_type": "code",
   "execution_count": 46,
   "id": "b8bec36d",
   "metadata": {
    "scrolled": true
   },
   "outputs": [
    {
     "name": "stdout",
     "output_type": "stream",
     "text": [
      "1. Kullanicinin Adi: Ismail ve Soyadi: Aydemir\n",
      "2. Kullanicinin Adi: Uygar ve Soyadi: Aydin\n",
      "3. Kullanicinin Adi: Naz ve Soyadi: Yagcioglu\n",
      "4. Kullanicinin Adi: Ferhat ve Soyadi: Ibrik\n",
      "5. Kullanicinin Adi: Ulas ve Soyadi: Acil\n",
      "6. Kullanicinin Adi: Bilal ve Soyadi: Kurucay\n"
     ]
    }
   ],
   "source": [
    "kullanici_sayisi = 0\n",
    "\n",
    "for kullanici in yorum_birakanlar:\n",
    "    kullanici_sayisi = kullanici_sayisi + 1\n",
    "    ad, soyad = kullanici.split()[0], kullanici.split()[1]\n",
    "    print(\"{0}. Kullanicinin Adi: {1} ve Soyadi: {2}\".format(kullanici_sayisi, ad, soyad))"
   ]
  },
  {
   "cell_type": "code",
   "execution_count": 49,
   "id": "d1bdcc19",
   "metadata": {},
   "outputs": [
    {
     "name": "stdout",
     "output_type": "stream",
     "text": [
      "1. Kullanici  Adi: Ismail ve Soyadi: Aydemir\n",
      "2. Kullanici  Adi: Uygar ve Soyadi: Aydin\n",
      "3. Kullanici  Adi: Naz ve Soyadi: Yagcioglu\n",
      "1. Moderatorun Adi: Ferhat ve Soyadi: Ibrik\n",
      "4. Kullanici  Adi: Ulas ve Soyadi: Acil\n",
      "5. Kullanici  Adi: Bilal ve Soyadi: Kurucay\n"
     ]
    }
   ],
   "source": [
    "moderator = \"Ferhat Ibrik\"\n",
    "\n",
    "kullanici_sayisi = 0\n",
    "moderator_sayisi= 0\n",
    "\n",
    "for kullanici in yorum_birakanlar:\n",
    "\n",
    "    ad, soyad = kullanici.split()[0], kullanici.split()[1]\n",
    "    \n",
    "    if kullanici == moderator:\n",
    "        moderator_sayisi += 1  #moderator_sayisi = moderator +1\n",
    "    \n",
    "        print(\"{0}. Moderatorun Adi: {1} ve Soyadi: {2}\".format(moderator_sayisi, ad, soyad))\n",
    "    else:\n",
    "        kullanici_sayisi += 1\n",
    "        print(\"{0}. Kullanici  Adi: {1} ve Soyadi: {2}\".format(kullanici_sayisi, ad, soyad))\n",
    "        "
   ]
  },
  {
   "cell_type": "markdown",
   "id": "5fbcf5f8",
   "metadata": {},
   "source": [
    "## Basit Liste Harici For Döngüleri\n",
    "Diğer Iterable Objelerde For Döngüleri"
   ]
  },
  {
   "cell_type": "code",
   "execution_count": 50,
   "id": "9008c61f",
   "metadata": {},
   "outputs": [
    {
     "name": "stdout",
     "output_type": "stream",
     "text": [
      "1\n",
      "3\n",
      "5\n",
      "7\n"
     ]
    }
   ],
   "source": [
    "# Tuples\n",
    "\n",
    "tup1 = (1,3,5,7)\n",
    "\n",
    "for sayi in tup1:\n",
    "    print(sayi)"
   ]
  },
  {
   "cell_type": "code",
   "execution_count": 51,
   "id": "3b2acc2d",
   "metadata": {},
   "outputs": [
    {
     "name": "stdout",
     "output_type": "stream",
     "text": [
      "1 2\n",
      "3 4\n",
      "5 6\n",
      "a b\n"
     ]
    }
   ],
   "source": [
    "liste = [[1,2], [3,4], [5,6], [\"a\",\"b\"]]\n",
    "\n",
    "for x, y in liste:\n",
    "    print(x, y)"
   ]
  },
  {
   "cell_type": "code",
   "execution_count": 52,
   "id": "333b20d4",
   "metadata": {},
   "outputs": [
    {
     "name": "stdout",
     "output_type": "stream",
     "text": [
      "1\n",
      "3\n",
      "5\n",
      "a\n"
     ]
    }
   ],
   "source": [
    "liste = [[1,2], [3,4], [5,6], [\"a\",\"b\"]]\n",
    "\n",
    "for x, y in liste:\n",
    "    print(x)"
   ]
  },
  {
   "cell_type": "code",
   "execution_count": 53,
   "id": "dc5b35de",
   "metadata": {},
   "outputs": [
    {
     "name": "stdout",
     "output_type": "stream",
     "text": [
      "1 2\n",
      "3 4\n",
      "5 6\n"
     ]
    }
   ],
   "source": [
    "liste = [[1,2], [3,4], [5,6]]\n",
    "\n",
    "for x, y in liste:\n",
    "    print(x, y)"
   ]
  },
  {
   "cell_type": "code",
   "execution_count": 56,
   "id": "8fb280a6",
   "metadata": {},
   "outputs": [
    {
     "name": "stdout",
     "output_type": "stream",
     "text": [
      "1\n",
      "2\n",
      "81\n",
      "12\n",
      "15625\n",
      "30\n"
     ]
    }
   ],
   "source": [
    "liste = [[1,2], [3,4], [5,6]]\n",
    "\n",
    "for x, y in liste:\n",
    "    print(x**y)\n",
    "    print(x*y)"
   ]
  },
  {
   "cell_type": "code",
   "execution_count": 58,
   "id": "6cfbb486",
   "metadata": {},
   "outputs": [
    {
     "data": {
      "text/plain": [
       "{'ad': 'Arif', 'soyad': 'Aygun'}"
      ]
     },
     "execution_count": 58,
     "metadata": {},
     "output_type": "execute_result"
    }
   ],
   "source": [
    "kullanici1 = {\n",
    "    \"ad\": \"Arif\",\n",
    "    \"soyad\": \"Aygun\"\n",
    "}\n",
    "kullanici1"
   ]
  },
  {
   "cell_type": "code",
   "execution_count": 59,
   "id": "65917044",
   "metadata": {},
   "outputs": [
    {
     "data": {
      "text/plain": [
       "dict_keys(['ad', 'soyad'])"
      ]
     },
     "execution_count": 59,
     "metadata": {},
     "output_type": "execute_result"
    }
   ],
   "source": [
    "kullanici1 = {\n",
    "    \"ad\": \"Arif\",\n",
    "    \"soyad\": \"Aygun\"\n",
    "}\n",
    "kullanici1.keys()"
   ]
  },
  {
   "cell_type": "code",
   "execution_count": 60,
   "id": "660426ca",
   "metadata": {},
   "outputs": [
    {
     "data": {
      "text/plain": [
       "dict_values(['Arif', 'Aygun'])"
      ]
     },
     "execution_count": 60,
     "metadata": {},
     "output_type": "execute_result"
    }
   ],
   "source": [
    "kullanici1 = {\n",
    "    \"ad\": \"Arif\",\n",
    "    \"soyad\": \"Aygun\"\n",
    "}\n",
    "kullanici1.values()"
   ]
  },
  {
   "cell_type": "code",
   "execution_count": 65,
   "id": "ca9d2348",
   "metadata": {},
   "outputs": [
    {
     "name": "stdout",
     "output_type": "stream",
     "text": [
      "dict_items([('ad', 'Arif'), ('soyad', 'Aygun')])\n",
      "dict_keys(['ad', 'soyad'])\n"
     ]
    }
   ],
   "source": [
    "kullanici1 = {\n",
    "    \"ad\": \"Arif\",\n",
    "    \"soyad\": \"Aygun\"\n",
    "}\n",
    "kullanici1.items()\n",
    "print(kullanici1.items())\n",
    "print(kullanici1.keys())"
   ]
  },
  {
   "cell_type": "code",
   "execution_count": 63,
   "id": "fbf0a597",
   "metadata": {},
   "outputs": [
    {
     "name": "stdout",
     "output_type": "stream",
     "text": [
      "Key: ad \t Value: Arif\n",
      "Key: soyad \t Value: Aygun\n"
     ]
    }
   ],
   "source": [
    "for k, v in kullanici1.items():\n",
    "    print(\"Key: {} \\t Value: {}\".format(k,v))"
   ]
  },
  {
   "cell_type": "code",
   "execution_count": 64,
   "id": "659ab8d0",
   "metadata": {},
   "outputs": [
    {
     "name": "stdout",
     "output_type": "stream",
     "text": [
      "Key: ad\n",
      "Key: soyad\n"
     ]
    }
   ],
   "source": [
    "for k in kullanici1.keys():\n",
    "    print(\"Key: {}\".format(k))"
   ]
  },
  {
   "cell_type": "code",
   "execution_count": 67,
   "id": "08244e6b",
   "metadata": {},
   "outputs": [
    {
     "name": "stdout",
     "output_type": "stream",
     "text": [
      "Values: Arif\n",
      "Values: Aygun\n"
     ]
    }
   ],
   "source": [
    "for v in kullanici1.values():\n",
    "    print(\"Values: {}\".format(v))\n",
    "    "
   ]
  },
  {
   "cell_type": "markdown",
   "id": "35432df3",
   "metadata": {},
   "source": [
    "## While Döngüleri"
   ]
  },
  {
   "cell_type": "code",
   "execution_count": 68,
   "id": "87aed497",
   "metadata": {},
   "outputs": [],
   "source": [
    "# Kullanım Yapısı\n",
    "\n",
    "# while  <şart doğruyken>:\n",
    "#      <burada yazılanı yap>"
   ]
  },
  {
   "cell_type": "code",
   "execution_count": 70,
   "id": "71171031",
   "metadata": {},
   "outputs": [
    {
     "name": "stdout",
     "output_type": "stream",
     "text": [
      "0 degeri 10'dan küçüktür\n",
      "1 degeri 10'dan küçüktür\n",
      "2 degeri 10'dan küçüktür\n",
      "3 degeri 10'dan küçüktür\n",
      "4 degeri 10'dan küçüktür\n",
      "5 degeri 10'dan küçüktür\n",
      "6 degeri 10'dan küçüktür\n",
      "7 degeri 10'dan küçüktür\n",
      "8 degeri 10'dan küçüktür\n",
      "9 degeri 10'dan küçüktür\n"
     ]
    }
   ],
   "source": [
    "x = 0\n",
    "\n",
    "while x < 10:\n",
    "    print(\"{} degeri 10'dan küçüktür\".format(x))\n",
    "    x += 1"
   ]
  },
  {
   "cell_type": "code",
   "execution_count": 69,
   "id": "c9e85f3c",
   "metadata": {},
   "outputs": [],
   "source": [
    "# Kullanım Yapısı\n",
    "\n",
    "# while  <şart doğruyken>:\n",
    "#      <burada yazılanı yap>\n",
    "#else:\n",
    "#      <burada yazılanı yap>"
   ]
  },
  {
   "cell_type": "code",
   "execution_count": 72,
   "id": "7034df00",
   "metadata": {},
   "outputs": [
    {
     "name": "stdout",
     "output_type": "stream",
     "text": [
      "0 degeri 10'dan küçüktür\n",
      "1 degeri 10'dan küçüktür\n",
      "2 degeri 10'dan küçüktür\n",
      "3 degeri 10'dan küçüktür\n",
      "4 degeri 10'dan küçüktür\n",
      "5 degeri 10'dan küçüktür\n",
      "6 degeri 10'dan küçüktür\n",
      "7 degeri 10'dan küçüktür\n",
      "8 degeri 10'dan küçüktür\n",
      "9 degeri 10'dan küçüktür\n",
      "10 degeri 10'a eşittir\n"
     ]
    }
   ],
   "source": [
    "x = 0\n",
    "\n",
    "while x < 10:\n",
    "    print(\"{} degeri 10'dan küçüktür\".format(x))\n",
    "    x += 1\n",
    "else:\n",
    "    print(\"{} degeri 10'a eşittir\".format(x))"
   ]
  },
  {
   "cell_type": "code",
   "execution_count": 84,
   "id": "3b824449",
   "metadata": {},
   "outputs": [
    {
     "name": "stdout",
     "output_type": "stream",
     "text": [
      "720\n"
     ]
    }
   ],
   "source": [
    "# faktöriyel\n",
    "# 4! = 4 * 3 * 2 * 1 = 24\n",
    "# 6! = 6 * 5 * 4 * 3 * 2 * 1 = 720\n",
    "\n",
    "sayi = 6\n",
    "sonuc = 1\n",
    "\n",
    "while sayi > 0:\n",
    "    sonuc = sonuc * sayi # 6 * 5 * 4 * 3 * 2 * 1\n",
    "    sayi -= 1\n",
    "print(sonuc)"
   ]
  },
  {
   "cell_type": "code",
   "execution_count": 90,
   "id": "682cbe25",
   "metadata": {
    "scrolled": true
   },
   "outputs": [
    {
     "name": "stdout",
     "output_type": "stream",
     "text": [
      "9\n",
      "72\n",
      "504\n",
      "3024\n",
      "15120\n",
      "60480\n",
      "181440\n",
      "362880\n",
      "362880\n"
     ]
    }
   ],
   "source": [
    "sayi = 9\n",
    "sonuc = 1\n",
    "\n",
    "while sayi > 0:\n",
    "    sonuc = sonuc * sayi \n",
    "    sayi -= 1\n",
    "    print(sonuc) # print indent şeklinde kalırsa sırayla her çarpma basamak sonucunu döndürür"
   ]
  },
  {
   "cell_type": "markdown",
   "id": "272f1cec",
   "metadata": {},
   "source": [
    "## range"
   ]
  },
  {
   "cell_type": "code",
   "execution_count": 91,
   "id": "d54cdf29",
   "metadata": {},
   "outputs": [
    {
     "data": {
      "text/plain": [
       "range(0, 10)"
      ]
     },
     "execution_count": 91,
     "metadata": {},
     "output_type": "execute_result"
    }
   ],
   "source": [
    "range(10) # değer atanmazsa default olarak 0 dan yazılan sayıya kadar tam sayılar"
   ]
  },
  {
   "cell_type": "code",
   "execution_count": 97,
   "id": "5718683e",
   "metadata": {},
   "outputs": [
    {
     "data": {
      "text/plain": [
       "range"
      ]
     },
     "execution_count": 97,
     "metadata": {},
     "output_type": "execute_result"
    }
   ],
   "source": [
    "type(range(10))"
   ]
  },
  {
   "cell_type": "code",
   "execution_count": 93,
   "id": "af8673c9",
   "metadata": {},
   "outputs": [
    {
     "data": {
      "text/plain": [
       "list"
      ]
     },
     "execution_count": 93,
     "metadata": {},
     "output_type": "execute_result"
    }
   ],
   "source": [
    "liste = [1, 2, 3]\n",
    "type(liste)"
   ]
  },
  {
   "cell_type": "code",
   "execution_count": 99,
   "id": "e12d7684",
   "metadata": {},
   "outputs": [
    {
     "data": {
      "text/plain": [
       "[0, 1, 2, 3, 4, 5, 6, 7, 8, 9]"
      ]
     },
     "execution_count": 99,
     "metadata": {},
     "output_type": "execute_result"
    }
   ],
   "source": [
    "# typecasting\n",
    "\n",
    "list(range(10)) #range listeye dönüştürülebilir"
   ]
  },
  {
   "cell_type": "code",
   "execution_count": 100,
   "id": "5326fc89",
   "metadata": {},
   "outputs": [
    {
     "data": {
      "text/plain": [
       "[0, 1, 2, 3, 4, 5, 6, 7, 8, 9, 10, 11]"
      ]
     },
     "execution_count": 100,
     "metadata": {},
     "output_type": "execute_result"
    }
   ],
   "source": [
    "# broadcasting\n",
    "[*range(12)]"
   ]
  },
  {
   "cell_type": "code",
   "execution_count": 101,
   "id": "9b06babd",
   "metadata": {},
   "outputs": [
    {
     "data": {
      "text/plain": [
       "range(3, 15)"
      ]
     },
     "execution_count": 101,
     "metadata": {},
     "output_type": "execute_result"
    }
   ],
   "source": [
    "range(3,15)"
   ]
  },
  {
   "cell_type": "code",
   "execution_count": 103,
   "id": "c63d48d0",
   "metadata": {},
   "outputs": [
    {
     "data": {
      "text/plain": [
       "[3, 4, 5, 6, 7, 8, 9, 10, 11, 12, 13, 14]"
      ]
     },
     "execution_count": 103,
     "metadata": {},
     "output_type": "execute_result"
    }
   ],
   "source": [
    "[*range(3,15)]  # 3'ten (dahil) başla 15'e (hariç) kadar"
   ]
  },
  {
   "cell_type": "code",
   "execution_count": 104,
   "id": "eb12347e",
   "metadata": {},
   "outputs": [
    {
     "data": {
      "text/plain": [
       "[3, 5, 7, 9, 11, 13]"
      ]
     },
     "execution_count": 104,
     "metadata": {},
     "output_type": "execute_result"
    }
   ],
   "source": [
    "[*range(3, 15, 2)]  # 3'ten (dahil) başla 15'e (hariç) kadar 2'şer atlayarak"
   ]
  },
  {
   "cell_type": "code",
   "execution_count": 105,
   "id": "343f321b",
   "metadata": {},
   "outputs": [
    {
     "name": "stdout",
     "output_type": "stream",
     "text": [
      "0\n",
      "1\n",
      "2\n",
      "3\n",
      "4\n",
      "5\n",
      "6\n",
      "7\n",
      "8\n"
     ]
    }
   ],
   "source": [
    "for x in range(9):\n",
    "    print(x)\n"
   ]
  },
  {
   "cell_type": "code",
   "execution_count": 109,
   "id": "718e421e",
   "metadata": {},
   "outputs": [
    {
     "name": "stdout",
     "output_type": "stream",
     "text": [
      "5\n",
      "6\n",
      "7\n",
      "8\n"
     ]
    }
   ],
   "source": [
    "for x in range(9):\n",
    "    if x > 4:\n",
    "        print(x)"
   ]
  },
  {
   "cell_type": "markdown",
   "id": "9913f0c8",
   "metadata": {},
   "source": [
    "## enumerate"
   ]
  },
  {
   "cell_type": "code",
   "execution_count": null,
   "id": "2e9d645a",
   "metadata": {},
   "outputs": [],
   "source": [
    "moderator = \"Ferhat Ibrik\"\n",
    "\n",
    "kullanici_sayisi = 0\n",
    "moderator_sayisi= 0\n",
    "\n",
    "for kullanici in yorum_birakanlar:\n",
    "\n",
    "    ad, soyad = kullanici.split()[0], kullanici.split()[1]\n",
    "    \n",
    "    if kullanici == moderator:\n",
    "        moderator_sayisi += 1  #moderator_sayisi = moderator +1\n",
    "    \n",
    "        print(\"{0}. Moderatorun Adi: {1} ve Soyadi: {2}\".format(moderator_sayisi, ad, soyad))\n",
    "    else:\n",
    "        kullanici_sayisi += 1\n",
    "        print(\"{0}. Kullanici  Adi: {1} ve Soyadi: {2}\".format(kullanici_sayisi, ad, soyad))"
   ]
  },
  {
   "cell_type": "code",
   "execution_count": 110,
   "id": "eff7e76c",
   "metadata": {},
   "outputs": [],
   "source": [
    "# yukarıdaki moderatör sayısı için yapılan işleme gerek kalmadan enumerate işlem yapar"
   ]
  },
  {
   "cell_type": "code",
   "execution_count": 111,
   "id": "236dba96",
   "metadata": {},
   "outputs": [
    {
     "name": "stdout",
     "output_type": "stream",
     "text": [
      "a\n",
      "b\n",
      "c\n",
      "d\n",
      "e\n"
     ]
    }
   ],
   "source": [
    "harfler = [\"a\", \"b\", \"c\", \"d\", \"e\"]\n",
    "\n",
    "for harf in harfler:\n",
    "    print(harf)"
   ]
  },
  {
   "cell_type": "code",
   "execution_count": 113,
   "id": "b44a9cad",
   "metadata": {},
   "outputs": [
    {
     "name": "stdout",
     "output_type": "stream",
     "text": [
      "(0, 'a')\n",
      "(1, 'b')\n",
      "(2, 'c')\n",
      "(3, 'd')\n",
      "(4, 'e')\n"
     ]
    }
   ],
   "source": [
    "for harf in enumerate(harfler):  # index ve item beraber\n",
    "    print(harf)"
   ]
  },
  {
   "cell_type": "code",
   "execution_count": 114,
   "id": "35fda1e8",
   "metadata": {},
   "outputs": [
    {
     "name": "stdout",
     "output_type": "stream",
     "text": [
      "a\n",
      "b\n",
      "c\n",
      "d\n",
      "e\n"
     ]
    }
   ],
   "source": [
    "for index, harf in enumerate(harfler): \n",
    "    print(harf)"
   ]
  },
  {
   "cell_type": "code",
   "execution_count": 115,
   "id": "0e81d339",
   "metadata": {},
   "outputs": [
    {
     "name": "stdout",
     "output_type": "stream",
     "text": [
      "0\n",
      "1\n",
      "2\n",
      "3\n",
      "4\n"
     ]
    }
   ],
   "source": [
    "for index, harf in enumerate(harfler): \n",
    "    print(index)"
   ]
  },
  {
   "cell_type": "code",
   "execution_count": 116,
   "id": "80662bbf",
   "metadata": {},
   "outputs": [
    {
     "name": "stdout",
     "output_type": "stream",
     "text": [
      "0 a\n",
      "1 b\n",
      "2 c\n",
      "3 d\n",
      "4 e\n"
     ]
    }
   ],
   "source": [
    "for index, harf in enumerate(harfler): \n",
    "    print(index, harf)"
   ]
  },
  {
   "cell_type": "code",
   "execution_count": 117,
   "id": "4dc86d2b",
   "metadata": {},
   "outputs": [
    {
     "name": "stdout",
     "output_type": "stream",
     "text": [
      "1 a\n",
      "2 b\n",
      "3 c\n",
      "4 d\n",
      "5 e\n"
     ]
    }
   ],
   "source": [
    "for index, harf in enumerate(harfler): \n",
    "    print(index + 1, harf) # 0 değil 1 den başlaması için"
   ]
  },
  {
   "cell_type": "code",
   "execution_count": 120,
   "id": "01475ab5",
   "metadata": {},
   "outputs": [
    {
     "name": "stdout",
     "output_type": "stream",
     "text": [
      "1.harf: a\n",
      "2.harf: b\n",
      "3.harf: c\n",
      "4.harf: d\n",
      "5.harf: e\n"
     ]
    }
   ],
   "source": [
    "for index, harf in enumerate(harfler): \n",
    "    print(\"{}.harf: {}\".format(index + 1, harf)) # 0 değil 1 den başlaması için"
   ]
  },
  {
   "cell_type": "markdown",
   "id": "28636852",
   "metadata": {},
   "source": [
    "## zip"
   ]
  },
  {
   "cell_type": "code",
   "execution_count": 127,
   "id": "86480881",
   "metadata": {},
   "outputs": [
    {
     "name": "stdout",
     "output_type": "stream",
     "text": [
      "3\n",
      "3\n"
     ]
    }
   ],
   "source": [
    "ulkeler = [\"TR\", \"FR\", \"DE\"]\n",
    "siralamalar = range(1,4)\n",
    "print(len(ulkeler))\n",
    "print(len(siralamalar))\n",
    "# aynı uzunluktaki yukarıdaki iki liste nasıl bağlamlandırılır"
   ]
  },
  {
   "cell_type": "code",
   "execution_count": 128,
   "id": "ded9d052",
   "metadata": {},
   "outputs": [
    {
     "name": "stdout",
     "output_type": "stream",
     "text": [
      "(1, 'TR')\n",
      "(2, 'FR')\n",
      "(3, 'DE')\n"
     ]
    }
   ],
   "source": [
    "for ulke in zip(siralamalar, ulkeler):\n",
    "    print(ulke)"
   ]
  },
  {
   "cell_type": "code",
   "execution_count": 129,
   "id": "599d97ab",
   "metadata": {},
   "outputs": [
    {
     "name": "stdout",
     "output_type": "stream",
     "text": [
      "TR\n",
      "FR\n",
      "DE\n"
     ]
    }
   ],
   "source": [
    "for sira, ulke in zip(siralamalar, ulkeler):\n",
    "    print(ulke)"
   ]
  },
  {
   "cell_type": "code",
   "execution_count": 130,
   "id": "8af2a1c4",
   "metadata": {},
   "outputs": [
    {
     "name": "stdout",
     "output_type": "stream",
     "text": [
      "1\n",
      "2\n",
      "3\n"
     ]
    }
   ],
   "source": [
    "for sira, ulke in zip(siralamalar, ulkeler):\n",
    "    print(sira)"
   ]
  },
  {
   "cell_type": "markdown",
   "id": "57346c96",
   "metadata": {},
   "source": [
    "## break"
   ]
  },
  {
   "cell_type": "code",
   "execution_count": 4,
   "id": "58971ff7",
   "metadata": {},
   "outputs": [
    {
     "name": "stdout",
     "output_type": "stream",
     "text": [
      "c harfi 2. indexte tutuluyor!\n"
     ]
    }
   ],
   "source": [
    "harfler = [\"a\", \"b\", \"c\", \"d\", \"e\"]\n",
    "\n",
    "for index, harf in enumerate(harfler):\n",
    "    if harf == \"c\":\n",
    "        print(\"{} harfi {}. indexte tutuluyor!\".format(harf, index))"
   ]
  },
  {
   "cell_type": "code",
   "execution_count": 5,
   "id": "00466cce",
   "metadata": {},
   "outputs": [
    {
     "name": "stdout",
     "output_type": "stream",
     "text": [
      "c harfi 2. indexte tutuluyor!\n",
      "c harfi 7. indexte tutuluyor!\n",
      "c harfi 12. indexte tutuluyor!\n",
      "c harfi 17. indexte tutuluyor!\n",
      "c harfi 22. indexte tutuluyor!\n",
      "c harfi 27. indexte tutuluyor!\n",
      "c harfi 32. indexte tutuluyor!\n",
      "c harfi 37. indexte tutuluyor!\n",
      "c harfi 42. indexte tutuluyor!\n",
      "c harfi 47. indexte tutuluyor!\n",
      "c harfi 52. indexte tutuluyor!\n",
      "c harfi 57. indexte tutuluyor!\n",
      "c harfi 62. indexte tutuluyor!\n",
      "c harfi 67. indexte tutuluyor!\n",
      "c harfi 72. indexte tutuluyor!\n",
      "c harfi 77. indexte tutuluyor!\n",
      "c harfi 82. indexte tutuluyor!\n",
      "c harfi 87. indexte tutuluyor!\n",
      "c harfi 92. indexte tutuluyor!\n",
      "c harfi 97. indexte tutuluyor!\n",
      "c harfi 102. indexte tutuluyor!\n",
      "c harfi 107. indexte tutuluyor!\n",
      "c harfi 112. indexte tutuluyor!\n",
      "c harfi 117. indexte tutuluyor!\n",
      "c harfi 122. indexte tutuluyor!\n",
      "c harfi 127. indexte tutuluyor!\n",
      "c harfi 132. indexte tutuluyor!\n",
      "c harfi 137. indexte tutuluyor!\n",
      "c harfi 142. indexte tutuluyor!\n",
      "c harfi 147. indexte tutuluyor!\n",
      "c harfi 152. indexte tutuluyor!\n",
      "c harfi 157. indexte tutuluyor!\n",
      "c harfi 162. indexte tutuluyor!\n",
      "c harfi 167. indexte tutuluyor!\n",
      "c harfi 172. indexte tutuluyor!\n",
      "c harfi 177. indexte tutuluyor!\n",
      "c harfi 182. indexte tutuluyor!\n",
      "c harfi 187. indexte tutuluyor!\n",
      "c harfi 192. indexte tutuluyor!\n",
      "c harfi 197. indexte tutuluyor!\n",
      "c harfi 202. indexte tutuluyor!\n",
      "c harfi 207. indexte tutuluyor!\n",
      "c harfi 212. indexte tutuluyor!\n",
      "c harfi 217. indexte tutuluyor!\n",
      "c harfi 222. indexte tutuluyor!\n",
      "c harfi 227. indexte tutuluyor!\n",
      "c harfi 232. indexte tutuluyor!\n",
      "c harfi 237. indexte tutuluyor!\n",
      "c harfi 242. indexte tutuluyor!\n",
      "c harfi 247. indexte tutuluyor!\n"
     ]
    }
   ],
   "source": [
    "harfler = [\"a\", \"b\", \"c\", \"d\", \"e\"]*50\n",
    "\n",
    "for index, harf in enumerate(harfler):\n",
    "    if harf == \"c\":\n",
    "        print(\"{} harfi {}. indexte tutuluyor!\".format(harf, index))"
   ]
  },
  {
   "cell_type": "code",
   "execution_count": 7,
   "id": "b1e868fd",
   "metadata": {},
   "outputs": [
    {
     "name": "stdout",
     "output_type": "stream",
     "text": [
      "c harfi 2. indexte tutuluyor!\n"
     ]
    }
   ],
   "source": [
    "harfler = [\"a\", \"b\", \"c\", \"d\", \"e\"]*50\n",
    "\n",
    "for index, harf in enumerate(harfler):\n",
    "    if harf == \"c\":\n",
    "        print(\"{} harfi {}. indexte tutuluyor!\".format(harf, index))\n",
    "        break # ilk c harfini bulduğunda döngüden çıkar"
   ]
  },
  {
   "cell_type": "markdown",
   "id": "45284438",
   "metadata": {},
   "source": [
    "## continue"
   ]
  },
  {
   "cell_type": "code",
   "execution_count": 13,
   "id": "83219cf9",
   "metadata": {},
   "outputs": [
    {
     "name": "stdout",
     "output_type": "stream",
     "text": [
      "1\n",
      "3\n",
      "5\n",
      "7\n",
      "9\n",
      "11\n",
      "13\n",
      "15\n",
      "17\n",
      "19\n"
     ]
    }
   ],
   "source": [
    "for sayi in range(1,20):\n",
    "    if sayi %2 == 0: # çift sayi sorgulama mantigi\n",
    "        continue\n",
    "    print (sayi)\n"
   ]
  },
  {
   "cell_type": "code",
   "execution_count": 14,
   "id": "44f0192b",
   "metadata": {},
   "outputs": [
    {
     "name": "stdout",
     "output_type": "stream",
     "text": [
      "1\n",
      "3\n",
      "5\n",
      "7\n",
      "9\n",
      "11\n",
      "13\n",
      "15\n",
      "17\n",
      "19\n"
     ]
    }
   ],
   "source": [
    "for sayi in range(1,20):\n",
    "    if sayi %2 != 0: # çift sayi sorgulama mantigi\n",
    "        print (sayi)"
   ]
  },
  {
   "cell_type": "markdown",
   "id": "0f901582",
   "metadata": {},
   "source": [
    "## pass"
   ]
  },
  {
   "cell_type": "code",
   "execution_count": 18,
   "id": "3152463c",
   "metadata": {},
   "outputs": [
    {
     "name": "stdout",
     "output_type": "stream",
     "text": [
      "1\n",
      "3\n",
      "5\n",
      "7\n",
      "9\n",
      "11\n",
      "13\n",
      "15\n",
      "17\n",
      "19\n"
     ]
    }
   ],
   "source": [
    "for sayi in range(1,20):\n",
    "    if sayi %2 == 0: # çift sayi sorgulama mantigi\n",
    "        pass\n",
    "    else:\n",
    "        print (sayi)"
   ]
  },
  {
   "cell_type": "code",
   "execution_count": 19,
   "id": "00424eef",
   "metadata": {},
   "outputs": [
    {
     "name": "stdout",
     "output_type": "stream",
     "text": [
      "Hey!\n"
     ]
    }
   ],
   "source": [
    "if sayi < 7:\n",
    "    pass # herhangi bir şart yazmadan else geçer\n",
    "else:\n",
    "    print(\"Hey!\")\n"
   ]
  },
  {
   "cell_type": "markdown",
   "id": "3aa6e720",
   "metadata": {},
   "source": [
    "## Fonksiyonlar"
   ]
  },
  {
   "cell_type": "markdown",
   "id": "3009ccc2",
   "metadata": {},
   "source": [
    "### Foksiyon Yapısı"
   ]
  },
  {
   "cell_type": "raw",
   "id": "033ac3a9",
   "metadata": {},
   "source": [
    "def  < fonksiyon_ismi > (< argumanlar >): #snakcase\n",
    "    \n",
    "    \"\"\"\n",
    "    Bu kod ne işe yarar                   #docstring\n",
    "    \n",
    "    \"\"\"\n",
    "    ......                                #return/print\n",
    "    "
   ]
  },
  {
   "cell_type": "code",
   "execution_count": 1,
   "id": "13346d40",
   "metadata": {},
   "outputs": [],
   "source": [
    "def bes_bastir():\n",
    "    print(5) # bu şekliyle herhangi bir çıktı yok"
   ]
  },
  {
   "cell_type": "code",
   "execution_count": 2,
   "id": "04556eef",
   "metadata": {},
   "outputs": [
    {
     "name": "stdout",
     "output_type": "stream",
     "text": [
      "5\n"
     ]
    }
   ],
   "source": [
    "bes_bastir()"
   ]
  },
  {
   "cell_type": "code",
   "execution_count": 3,
   "id": "36ca4973",
   "metadata": {},
   "outputs": [],
   "source": [
    "def bes_bastir():\n",
    "    \"\"\"\n",
    "     kjj kkj nkjş nşkj \n",
    "    \"\"\"\n",
    "    \n",
    "    print(5)"
   ]
  },
  {
   "cell_type": "markdown",
   "id": "8ccdd908",
   "metadata": {},
   "source": [
    "### Fonksiyonlarda print ve return farkı"
   ]
  },
  {
   "cell_type": "code",
   "execution_count": 4,
   "id": "427d20a5",
   "metadata": {},
   "outputs": [],
   "source": [
    "def bes_dondur():\n",
    "    return 5"
   ]
  },
  {
   "cell_type": "code",
   "execution_count": 5,
   "id": "0a599732",
   "metadata": {},
   "outputs": [
    {
     "data": {
      "text/plain": [
       "5"
      ]
     },
     "execution_count": 5,
     "metadata": {},
     "output_type": "execute_result"
    }
   ],
   "source": [
    "bes_dondur()"
   ]
  },
  {
   "cell_type": "code",
   "execution_count": 6,
   "id": "10e7b5e6",
   "metadata": {},
   "outputs": [
    {
     "name": "stdout",
     "output_type": "stream",
     "text": [
      "5\n"
     ]
    }
   ],
   "source": [
    "a = bes_bastir()"
   ]
  },
  {
   "cell_type": "code",
   "execution_count": 7,
   "id": "d8c0b722",
   "metadata": {},
   "outputs": [
    {
     "name": "stdout",
     "output_type": "stream",
     "text": [
      "None\n"
     ]
    }
   ],
   "source": [
    "print(a)"
   ]
  },
  {
   "cell_type": "code",
   "execution_count": 8,
   "id": "2b18156b",
   "metadata": {},
   "outputs": [],
   "source": [
    "b = bes_dondur()"
   ]
  },
  {
   "cell_type": "code",
   "execution_count": 9,
   "id": "4b66bb8a",
   "metadata": {},
   "outputs": [
    {
     "name": "stdout",
     "output_type": "stream",
     "text": [
      "5\n"
     ]
    }
   ],
   "source": [
    "print(b)"
   ]
  },
  {
   "cell_type": "markdown",
   "id": "7e768013",
   "metadata": {},
   "source": [
    "### Fonksiyonlarda Argümanlar"
   ]
  },
  {
   "cell_type": "code",
   "execution_count": 10,
   "id": "63d5ff1c",
   "metadata": {},
   "outputs": [],
   "source": [
    "def sayi_dondur(sayi):\n",
    "    return sayi"
   ]
  },
  {
   "cell_type": "code",
   "execution_count": 11,
   "id": "1dcec9e2",
   "metadata": {},
   "outputs": [
    {
     "data": {
      "text/plain": [
       "25"
      ]
     },
     "execution_count": 11,
     "metadata": {},
     "output_type": "execute_result"
    }
   ],
   "source": [
    "sayi_dondur(25)"
   ]
  },
  {
   "cell_type": "code",
   "execution_count": 12,
   "id": "82a6121f",
   "metadata": {},
   "outputs": [],
   "source": [
    "#default argümanlar\n",
    "def sayi_dondur(sayi = 250):\n",
    "    return sayi"
   ]
  },
  {
   "cell_type": "code",
   "execution_count": 13,
   "id": "dcc2a38e",
   "metadata": {},
   "outputs": [
    {
     "data": {
      "text/plain": [
       "96722"
      ]
     },
     "execution_count": 13,
     "metadata": {},
     "output_type": "execute_result"
    }
   ],
   "source": [
    "sayi_dondur(96722)"
   ]
  },
  {
   "cell_type": "code",
   "execution_count": 14,
   "id": "609a77ca",
   "metadata": {},
   "outputs": [
    {
     "data": {
      "text/plain": [
       "250"
      ]
     },
     "execution_count": 14,
     "metadata": {},
     "output_type": "execute_result"
    }
   ],
   "source": [
    "sayi_dondur()"
   ]
  },
  {
   "cell_type": "code",
   "execution_count": 19,
   "id": "33c1ce8e",
   "metadata": {},
   "outputs": [],
   "source": [
    "def buyuk_sayi_dondur (a, b):\n",
    "    if a > b:\n",
    "        return a\n",
    "    elif b > a:\n",
    "        return b\n",
    "    "
   ]
  },
  {
   "cell_type": "code",
   "execution_count": 20,
   "id": "c219fa74",
   "metadata": {},
   "outputs": [
    {
     "data": {
      "text/plain": [
       "40"
      ]
     },
     "execution_count": 20,
     "metadata": {},
     "output_type": "execute_result"
    }
   ],
   "source": [
    "buyuk_sayi_dondur(23, 40)"
   ]
  },
  {
   "cell_type": "code",
   "execution_count": 21,
   "id": "b2dd108f",
   "metadata": {},
   "outputs": [],
   "source": [
    "def buyuk_sayi_dondur (a, b):\n",
    "    \n",
    "        return a # printtten farklı olarak ilk return döner ikinci işlemez\n",
    "    \n",
    "        return b"
   ]
  },
  {
   "cell_type": "code",
   "execution_count": 22,
   "id": "8bfca29f",
   "metadata": {},
   "outputs": [
    {
     "data": {
      "text/plain": [
       "23"
      ]
     },
     "execution_count": 22,
     "metadata": {},
     "output_type": "execute_result"
    }
   ],
   "source": [
    "buyuk_sayi_dondur(23, 40)"
   ]
  },
  {
   "cell_type": "markdown",
   "id": "bb0a2c6b",
   "metadata": {},
   "source": [
    "### Fonksiyonlarin Birbiri ile Iliskisi"
   ]
  },
  {
   "cell_type": "code",
   "execution_count": 23,
   "id": "773f6fde",
   "metadata": {},
   "outputs": [],
   "source": [
    "def metin_yazdir(a,b):\n",
    "    buyuk_sayi = buyuk_sayi_dondur(a,b)\n",
    "    sablon_metin = \"{} daha büyük sayıdır.\".format(buyuk_sayi)\n",
    "    print(sablon_metin)"
   ]
  },
  {
   "cell_type": "code",
   "execution_count": 24,
   "id": "e0cac81b",
   "metadata": {},
   "outputs": [
    {
     "name": "stdout",
     "output_type": "stream",
     "text": [
      "23352323523 daha büyük sayıdır.\n"
     ]
    }
   ],
   "source": [
    "metin_yazdir(23352323523,343633734734)"
   ]
  },
  {
   "cell_type": "markdown",
   "id": "66db0da8",
   "metadata": {},
   "source": [
    "### Fonksiyonlar Birden Fazla Sonuc Döndürebilir"
   ]
  },
  {
   "cell_type": "code",
   "execution_count": 38,
   "id": "00a56fa6",
   "metadata": {},
   "outputs": [
    {
     "data": {
      "text/plain": [
       "['Arif', 'Aygün']"
      ]
     },
     "execution_count": 38,
     "metadata": {},
     "output_type": "execute_result"
    }
   ],
   "source": [
    "\"Arif Aygün\".split()"
   ]
  },
  {
   "cell_type": "code",
   "execution_count": 50,
   "id": "1cb57e9b",
   "metadata": {},
   "outputs": [],
   "source": [
    "def isim_soyisim_ayirma(isim_soyisim):\n",
    "    isim = isim_soyisim.split()[0]\n",
    "    soyisim = isim_soyisim.split()[1]\n",
    "    return isim,soyisim"
   ]
  },
  {
   "cell_type": "code",
   "execution_count": 51,
   "id": "c223b564",
   "metadata": {},
   "outputs": [
    {
     "data": {
      "text/plain": [
       "('Arif', 'Aygün')"
      ]
     },
     "execution_count": 51,
     "metadata": {},
     "output_type": "execute_result"
    }
   ],
   "source": [
    "isim_soyisim_ayirma(\"Arif Aygün\")"
   ]
  },
  {
   "cell_type": "code",
   "execution_count": 54,
   "id": "bc5447c6",
   "metadata": {},
   "outputs": [
    {
     "name": "stdout",
     "output_type": "stream",
     "text": [
      "Arif\n",
      "Aygün\n"
     ]
    }
   ],
   "source": [
    "a,b = isim_soyisim_ayirma(\"Arif Aygün\")\n",
    "print(a)\n",
    "print(b)"
   ]
  },
  {
   "cell_type": "markdown",
   "id": "2413e82b",
   "metadata": {},
   "source": [
    "### *args Argumanı"
   ]
  },
  {
   "cell_type": "code",
   "execution_count": 55,
   "id": "dfcf248d",
   "metadata": {},
   "outputs": [
    {
     "data": {
      "text/plain": [
       "'Arif Ayguün'"
      ]
     },
     "execution_count": 55,
     "metadata": {},
     "output_type": "execute_result"
    }
   ],
   "source": [
    "\" \".join([\"Arif\", \"Ayguün\"])"
   ]
  },
  {
   "cell_type": "code",
   "execution_count": 56,
   "id": "85ace5aa",
   "metadata": {},
   "outputs": [],
   "source": [
    "def isim_soyisim_birlestirme(isim, soyisim):\n",
    "    return \" \".join([isim, soyisim])"
   ]
  },
  {
   "cell_type": "code",
   "execution_count": 59,
   "id": "241f7fc3",
   "metadata": {},
   "outputs": [
    {
     "data": {
      "text/plain": [
       "'Senay Aygün'"
      ]
     },
     "execution_count": 59,
     "metadata": {},
     "output_type": "execute_result"
    }
   ],
   "source": [
    "isim_soyisim_birlestirme(\"Senay\", \"Aygün\")"
   ]
  },
  {
   "cell_type": "code",
   "execution_count": 62,
   "id": "688b5b41",
   "metadata": {},
   "outputs": [
    {
     "ename": "TypeError",
     "evalue": "isim_soyisim_birlestirme() takes 2 positional arguments but 3 were given",
     "output_type": "error",
     "traceback": [
      "\u001b[1;31m---------------------------------------------------------------------------\u001b[0m",
      "\u001b[1;31mTypeError\u001b[0m                                 Traceback (most recent call last)",
      "\u001b[1;32m~\\AppData\\Local\\Temp\\ipykernel_2020\\2725524369.py\u001b[0m in \u001b[0;36m<module>\u001b[1;34m\u001b[0m\n\u001b[0;32m      1\u001b[0m \u001b[1;31m# iki argümanlı bir fonksiyona üç argüman girilirse\u001b[0m\u001b[1;33m\u001b[0m\u001b[1;33m\u001b[0m\u001b[0m\n\u001b[1;32m----> 2\u001b[1;33m \u001b[0misim_soyisim_birlestirme\u001b[0m\u001b[1;33m(\u001b[0m\u001b[1;34m\"Senay\"\u001b[0m\u001b[1;33m,\u001b[0m \u001b[1;34m\"Sultan\"\u001b[0m\u001b[1;33m,\u001b[0m \u001b[1;34m\"Aygün\"\u001b[0m\u001b[1;33m)\u001b[0m\u001b[1;33m\u001b[0m\u001b[1;33m\u001b[0m\u001b[0m\n\u001b[0m\u001b[0;32m      3\u001b[0m \u001b[1;31m#TypeError: isim_soyisim_birlestirme() takes 2 positional arguments but 3 were given\u001b[0m\u001b[1;33m\u001b[0m\u001b[1;33m\u001b[0m\u001b[0m\n",
      "\u001b[1;31mTypeError\u001b[0m: isim_soyisim_birlestirme() takes 2 positional arguments but 3 were given"
     ]
    }
   ],
   "source": [
    "# iki argümanlı bir fonksiyona üç argüman girilirse\n",
    "isim_soyisim_birlestirme(\"Senay\", \"Sultan\", \"Aygün\")\n",
    "#TypeError: isim_soyisim_birlestirme() takes 2 positional arguments but 3 were given"
   ]
  },
  {
   "cell_type": "code",
   "execution_count": 68,
   "id": "bfa1f1aa",
   "metadata": {},
   "outputs": [],
   "source": [
    "#Yukarıdaki sorunun çözümü için *args argümanı kullanılır. args bir liste gibi davranır\n",
    "def isim_soyisim_birlestirme(*args):\n",
    "    return \" \".join(args)"
   ]
  },
  {
   "cell_type": "code",
   "execution_count": 69,
   "id": "35595715",
   "metadata": {},
   "outputs": [
    {
     "data": {
      "text/plain": [
       "'Senay Sultan Aygün'"
      ]
     },
     "execution_count": 69,
     "metadata": {},
     "output_type": "execute_result"
    }
   ],
   "source": [
    "isim_soyisim_birlestirme(\"Senay\", \"Sultan\", \"Aygün\")"
   ]
  },
  {
   "cell_type": "code",
   "execution_count": 71,
   "id": "4e32813d",
   "metadata": {},
   "outputs": [],
   "source": [
    "def isim_soyisim_birlestirme(*args):\n",
    "    for item in args:\n",
    "        print(item)    "
   ]
  },
  {
   "cell_type": "code",
   "execution_count": 73,
   "id": "ede15fdc",
   "metadata": {},
   "outputs": [
    {
     "name": "stdout",
     "output_type": "stream",
     "text": [
      "Senay\n",
      "Sultan\n",
      "Aygün\n"
     ]
    }
   ],
   "source": [
    "isim_soyisim_birlestirme(\"Senay\", \"Sultan\", \"Aygün\")"
   ]
  },
  {
   "cell_type": "markdown",
   "id": "fe8c2e6e",
   "metadata": {},
   "source": [
    "### **kwargs Argumanı"
   ]
  },
  {
   "cell_type": "code",
   "execution_count": 78,
   "id": "c3dfa69b",
   "metadata": {},
   "outputs": [],
   "source": [
    "def gobek_adi_yazdir(**kwargs):\n",
    "    if \"gobek_adi\" in kwargs:\n",
    "        print(\"Göbek adı :\", kwargs[\"gobek_adi\"])\n",
    "    else:\n",
    "        print(\"Gobek adi yoktur\")"
   ]
  },
  {
   "cell_type": "code",
   "execution_count": 79,
   "id": "3158d1d8",
   "metadata": {},
   "outputs": [
    {
     "name": "stdout",
     "output_type": "stream",
     "text": [
      "Göbek adı : Irfan\n"
     ]
    }
   ],
   "source": [
    "gobek_adi_yazdir(adi= \"Arif\", gobek_adi = \"Irfan\", soyadi = \"Aygün\")"
   ]
  },
  {
   "cell_type": "code",
   "execution_count": 80,
   "id": "1e497e3f",
   "metadata": {},
   "outputs": [
    {
     "name": "stdout",
     "output_type": "stream",
     "text": [
      "Gobek adi yoktur\n"
     ]
    }
   ],
   "source": [
    "gobek_adi_yazdir(adi= \"Ali\", soyadi = \"Kaya\")"
   ]
  },
  {
   "cell_type": "markdown",
   "id": "31aa6610",
   "metadata": {},
   "source": [
    "### map, filter ve lambda Expressions"
   ]
  },
  {
   "cell_type": "code",
   "execution_count": null,
   "id": "83fe5c2b",
   "metadata": {},
   "outputs": [],
   "source": []
  }
 ],
 "metadata": {
  "kernelspec": {
   "display_name": "Python 3 (ipykernel)",
   "language": "python",
   "name": "python3"
  },
  "language_info": {
   "codemirror_mode": {
    "name": "ipython",
    "version": 3
   },
   "file_extension": ".py",
   "mimetype": "text/x-python",
   "name": "python",
   "nbconvert_exporter": "python",
   "pygments_lexer": "ipython3",
   "version": "3.9.13"
  }
 },
 "nbformat": 4,
 "nbformat_minor": 5
}
