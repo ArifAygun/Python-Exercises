{
 "cells": [
  {
   "cell_type": "markdown",
   "id": "43872ba2",
   "metadata": {},
   "source": [
    "## Değişkenler"
   ]
  },
  {
   "cell_type": "code",
   "execution_count": 1,
   "id": "bbfb175b",
   "metadata": {},
   "outputs": [
    {
     "name": "stdout",
     "output_type": "stream",
     "text": [
      "5\n"
     ]
    }
   ],
   "source": [
    "a = 5\n",
    "print(a)"
   ]
  },
  {
   "cell_type": "code",
   "execution_count": 2,
   "id": "747dc2bf",
   "metadata": {},
   "outputs": [
    {
     "name": "stdout",
     "output_type": "stream",
     "text": [
      "40\n"
     ]
    }
   ],
   "source": [
    "a = 40\n",
    "print(a)"
   ]
  },
  {
   "cell_type": "code",
   "execution_count": 5,
   "id": "114c1cf2",
   "metadata": {},
   "outputs": [
    {
     "name": "stdout",
     "output_type": "stream",
     "text": [
      "314.0\n"
     ]
    }
   ],
   "source": [
    "#Dairenin alanını hesapla\n",
    "pi = 3.14\n",
    "r = 10\n",
    "\n",
    "alan = pi*r**2\n",
    "print(alan)"
   ]
  },
  {
   "cell_type": "code",
   "execution_count": 6,
   "id": "67c997ac",
   "metadata": {},
   "outputs": [
    {
     "name": "stdout",
     "output_type": "stream",
     "text": [
      "Dairenin alanı:  600\n"
     ]
    }
   ],
   "source": [
    "#Dikdörtgenin alanını hesapla\n",
    "x = 30 # uzum kenar\n",
    "y = 20 #kısa kenar\n",
    "\n",
    "print(\"Dairenin alanı: \", x*y)"
   ]
  },
  {
   "cell_type": "code",
   "execution_count": null,
   "id": "330c791d",
   "metadata": {},
   "outputs": [],
   "source": []
  }
 ],
 "metadata": {
  "kernelspec": {
   "display_name": "Python 3 (ipykernel)",
   "language": "python",
   "name": "python3"
  },
  "language_info": {
   "codemirror_mode": {
    "name": "ipython",
    "version": 3
   },
   "file_extension": ".py",
   "mimetype": "text/x-python",
   "name": "python",
   "nbconvert_exporter": "python",
   "pygments_lexer": "ipython3",
   "version": "3.9.13"
  }
 },
 "nbformat": 4,
 "nbformat_minor": 5
}
